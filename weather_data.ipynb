{
 "cells": [
  {
   "cell_type": "markdown",
   "metadata": {},
   "source": [
    "## Ingesta de los datos \n",
    "Utilizamos la libreria Meteostat, la cual descarga informacion relacionada al clima de diversas fuentes \n",
    "Meteostat usa como parametro la longitud, latitud, elevacion, fecha inicio y fecha final\n",
    "En este caso, solo hacemos variar los 3 primeros parametros en funcion de los 5 Boroughs\n",
    "\n",
    "paso 1: Se crea una lista con los parametros de cada borough\n",
    "paso 2: Se realiza la descarga en un unico dataframe, a traves de un for"
   ]
  },
  {
   "cell_type": "code",
   "execution_count": 1,
   "metadata": {},
   "outputs": [],
   "source": [
    "#cada tupla tiede: latitud, longitud, elevacion, nombre del boroug\n",
    "bronx = [40.8499, -73.8664, 19, \"The Bronx\"]\n",
    "brooklyn = [40.6501, -73.9496, 18, 'Brooklyn']\n",
    "manhattan = [40.7834, -73.9663, 38, 'Manhattan']\n",
    "queens = [40.6815, -73.8365, 13, 'Queens']\n",
    "staten_island = [40.5623, -74.1399, 23, 'Staten Island']\n",
    "\n",
    "#generamos una lista  con las tuplas\n",
    "lista = [bronx, brooklyn, manhattan, queens,staten_island]\n"
   ]
  },
  {
   "cell_type": "code",
   "execution_count": 2,
   "metadata": {},
   "outputs": [],
   "source": [
    "#importamos las librerias \n",
    "from datetime import datetime\n",
    "import matplotlib.pyplot as plt\n",
    "#PIP INSTALL METEOSTAT\n",
    "from meteostat import Point, Daily, Hourly\n",
    "import pandas as pd"
   ]
  },
  {
   "cell_type": "code",
   "execution_count": 3,
   "metadata": {},
   "outputs": [],
   "source": [
    "#descarga de la informacion \n",
    "#descargamos la info de todos los boroughs en un mismo dataframe\n",
    "\n",
    "df_list = []\n",
    "for i in lista:\n",
    "    #Seteo del periodo estudiado\n",
    "    start = datetime(2018, 1, 1)\n",
    "    end = datetime(2018, 1, 31)\n",
    "    #seteo de locacion (latitud, longitud, elevacion)\n",
    "    location = Point([i][0][0], [i][0][1], [i][0][2])\n",
    "    # indicamos que queremos una frecuencia por hora\n",
    "    data = Hourly(location, start, end)\n",
    "    data = data.fetch()\n",
    "    #creamos un dataframe\n",
    "    df = pd.DataFrame(data)\n",
    "    df['Borough'] = [i][0][3]\n",
    "    df_list.append(df)\n",
    "df = pd.concat(df_list)  \n"
   ]
  },
  {
   "cell_type": "code",
   "execution_count": 4,
   "metadata": {},
   "outputs": [],
   "source": [
    "#transformamos el indice 'time' en columna\n",
    "df.reset_index(inplace=True)"
   ]
  },
  {
   "cell_type": "code",
   "execution_count": 5,
   "metadata": {},
   "outputs": [
    {
     "name": "stdout",
     "output_type": "stream",
     "text": [
      "<class 'pandas.core.frame.DataFrame'>\n",
      "RangeIndex: 3605 entries, 0 to 3604\n",
      "Data columns (total 13 columns):\n",
      " #   Column   Non-Null Count  Dtype         \n",
      "---  ------   --------------  -----         \n",
      " 0   time     3605 non-null   datetime64[ns]\n",
      " 1   temp     3605 non-null   float64       \n",
      " 2   dwpt     3605 non-null   float64       \n",
      " 3   rhum     3605 non-null   float64       \n",
      " 4   prcp     3493 non-null   float64       \n",
      " 5   snow     0 non-null      float64       \n",
      " 6   wdir     3564 non-null   float64       \n",
      " 7   wspd     3605 non-null   float64       \n",
      " 8   wpgt     0 non-null      float64       \n",
      " 9   pres     3599 non-null   float64       \n",
      " 10  tsun     0 non-null      float64       \n",
      " 11  coco     560 non-null    float64       \n",
      " 12  Borough  3605 non-null   object        \n",
      "dtypes: datetime64[ns](1), float64(11), object(1)\n",
      "memory usage: 366.3+ KB\n",
      "None\n"
     ]
    }
   ],
   "source": [
    "print(df.info())"
   ]
  },
  {
   "cell_type": "markdown",
   "metadata": {},
   "source": [
    "## Limpieza de datos \n",
    "1) Las columnas tsun, wpgt, snow no tienen ningun registro, con lo cual se eliminan. coco tiene muchos valores faltantes\n",
    "2) las columnas prcp, pres, wdir tienen unos pocos faltantes\n",
    "3) es necesario nombres de columnas adecuadas \n",
    "4) es necesario hacer una columna con la fecha concatenada con el borough"
   ]
  },
  {
   "cell_type": "code",
   "execution_count": 6,
   "metadata": {},
   "outputs": [],
   "source": [
    "#eliminamos las columnas con valores muchos valores nulos (o todos)\n",
    "df.drop([\"snow\"], axis = 1, inplace = True)\n",
    "df.drop([\"wpgt\"], axis = 1, inplace = True)\n",
    "df.drop([\"tsun\"], axis = 1, inplace = True)\n",
    "df.drop([\"coco\"], axis = 1, inplace = True)"
   ]
  },
  {
   "cell_type": "code",
   "execution_count": 7,
   "metadata": {},
   "outputs": [
    {
     "data": {
      "text/html": [
       "<div>\n",
       "<style scoped>\n",
       "    .dataframe tbody tr th:only-of-type {\n",
       "        vertical-align: middle;\n",
       "    }\n",
       "\n",
       "    .dataframe tbody tr th {\n",
       "        vertical-align: top;\n",
       "    }\n",
       "\n",
       "    .dataframe thead th {\n",
       "        text-align: right;\n",
       "    }\n",
       "</style>\n",
       "<table border=\"1\" class=\"dataframe\">\n",
       "  <thead>\n",
       "    <tr style=\"text-align: right;\">\n",
       "      <th></th>\n",
       "      <th>time</th>\n",
       "      <th>temp</th>\n",
       "      <th>dwpt</th>\n",
       "      <th>rhum</th>\n",
       "      <th>prcp</th>\n",
       "      <th>wdir</th>\n",
       "      <th>wspd</th>\n",
       "      <th>pres</th>\n",
       "      <th>Borough</th>\n",
       "    </tr>\n",
       "  </thead>\n",
       "  <tbody>\n",
       "    <tr>\n",
       "      <th>0</th>\n",
       "      <td>2018-01-01 00:00:00</td>\n",
       "      <td>-10.7</td>\n",
       "      <td>-20.1</td>\n",
       "      <td>46.0</td>\n",
       "      <td>NaN</td>\n",
       "      <td>320.0</td>\n",
       "      <td>18.4</td>\n",
       "      <td>1026.7</td>\n",
       "      <td>The Bronx</td>\n",
       "    </tr>\n",
       "    <tr>\n",
       "      <th>1</th>\n",
       "      <td>2018-01-01 01:00:00</td>\n",
       "      <td>-11.8</td>\n",
       "      <td>-20.6</td>\n",
       "      <td>48.0</td>\n",
       "      <td>0.0</td>\n",
       "      <td>330.0</td>\n",
       "      <td>18.4</td>\n",
       "      <td>1026.7</td>\n",
       "      <td>The Bronx</td>\n",
       "    </tr>\n",
       "    <tr>\n",
       "      <th>2</th>\n",
       "      <td>2018-01-01 02:00:00</td>\n",
       "      <td>-12.3</td>\n",
       "      <td>-20.6</td>\n",
       "      <td>50.0</td>\n",
       "      <td>0.0</td>\n",
       "      <td>320.0</td>\n",
       "      <td>13.0</td>\n",
       "      <td>1027.0</td>\n",
       "      <td>The Bronx</td>\n",
       "    </tr>\n",
       "    <tr>\n",
       "      <th>3</th>\n",
       "      <td>2018-01-01 03:00:00</td>\n",
       "      <td>-12.3</td>\n",
       "      <td>-20.6</td>\n",
       "      <td>50.0</td>\n",
       "      <td>0.0</td>\n",
       "      <td>330.0</td>\n",
       "      <td>20.5</td>\n",
       "      <td>1026.8</td>\n",
       "      <td>The Bronx</td>\n",
       "    </tr>\n",
       "    <tr>\n",
       "      <th>4</th>\n",
       "      <td>2018-01-01 04:00:00</td>\n",
       "      <td>-12.9</td>\n",
       "      <td>-20.1</td>\n",
       "      <td>55.0</td>\n",
       "      <td>0.0</td>\n",
       "      <td>320.0</td>\n",
       "      <td>20.5</td>\n",
       "      <td>1027.1</td>\n",
       "      <td>The Bronx</td>\n",
       "    </tr>\n",
       "    <tr>\n",
       "      <th>5</th>\n",
       "      <td>2018-01-01 05:00:00</td>\n",
       "      <td>-12.9</td>\n",
       "      <td>-20.1</td>\n",
       "      <td>55.0</td>\n",
       "      <td>0.0</td>\n",
       "      <td>340.0</td>\n",
       "      <td>16.6</td>\n",
       "      <td>1026.9</td>\n",
       "      <td>The Bronx</td>\n",
       "    </tr>\n",
       "    <tr>\n",
       "      <th>6</th>\n",
       "      <td>2018-01-01 06:00:00</td>\n",
       "      <td>-13.4</td>\n",
       "      <td>-20.1</td>\n",
       "      <td>57.0</td>\n",
       "      <td>0.0</td>\n",
       "      <td>330.0</td>\n",
       "      <td>14.8</td>\n",
       "      <td>1027.1</td>\n",
       "      <td>The Bronx</td>\n",
       "    </tr>\n",
       "    <tr>\n",
       "      <th>7</th>\n",
       "      <td>2018-01-01 07:00:00</td>\n",
       "      <td>-13.4</td>\n",
       "      <td>-20.1</td>\n",
       "      <td>57.0</td>\n",
       "      <td>0.0</td>\n",
       "      <td>330.0</td>\n",
       "      <td>16.6</td>\n",
       "      <td>1027.4</td>\n",
       "      <td>The Bronx</td>\n",
       "    </tr>\n",
       "    <tr>\n",
       "      <th>8</th>\n",
       "      <td>2018-01-01 08:00:00</td>\n",
       "      <td>-13.4</td>\n",
       "      <td>-20.7</td>\n",
       "      <td>54.0</td>\n",
       "      <td>0.0</td>\n",
       "      <td>330.0</td>\n",
       "      <td>25.9</td>\n",
       "      <td>1027.6</td>\n",
       "      <td>The Bronx</td>\n",
       "    </tr>\n",
       "    <tr>\n",
       "      <th>9</th>\n",
       "      <td>2018-01-01 09:00:00</td>\n",
       "      <td>-14.0</td>\n",
       "      <td>-20.7</td>\n",
       "      <td>57.0</td>\n",
       "      <td>0.0</td>\n",
       "      <td>310.0</td>\n",
       "      <td>20.5</td>\n",
       "      <td>1027.7</td>\n",
       "      <td>The Bronx</td>\n",
       "    </tr>\n",
       "    <tr>\n",
       "      <th>10</th>\n",
       "      <td>2018-01-01 10:00:00</td>\n",
       "      <td>-14.0</td>\n",
       "      <td>-20.7</td>\n",
       "      <td>57.0</td>\n",
       "      <td>0.0</td>\n",
       "      <td>310.0</td>\n",
       "      <td>24.1</td>\n",
       "      <td>1027.8</td>\n",
       "      <td>The Bronx</td>\n",
       "    </tr>\n",
       "    <tr>\n",
       "      <th>11</th>\n",
       "      <td>2018-01-01 11:00:00</td>\n",
       "      <td>-14.0</td>\n",
       "      <td>-21.1</td>\n",
       "      <td>55.0</td>\n",
       "      <td>0.0</td>\n",
       "      <td>320.0</td>\n",
       "      <td>24.1</td>\n",
       "      <td>1028.0</td>\n",
       "      <td>The Bronx</td>\n",
       "    </tr>\n",
       "    <tr>\n",
       "      <th>12</th>\n",
       "      <td>2018-01-01 12:00:00</td>\n",
       "      <td>-14.5</td>\n",
       "      <td>-20.8</td>\n",
       "      <td>59.0</td>\n",
       "      <td>0.0</td>\n",
       "      <td>320.0</td>\n",
       "      <td>22.3</td>\n",
       "      <td>1028.5</td>\n",
       "      <td>The Bronx</td>\n",
       "    </tr>\n",
       "    <tr>\n",
       "      <th>13</th>\n",
       "      <td>2018-01-01 13:00:00</td>\n",
       "      <td>-14.0</td>\n",
       "      <td>-20.7</td>\n",
       "      <td>57.0</td>\n",
       "      <td>0.0</td>\n",
       "      <td>320.0</td>\n",
       "      <td>27.7</td>\n",
       "      <td>1028.7</td>\n",
       "      <td>The Bronx</td>\n",
       "    </tr>\n",
       "    <tr>\n",
       "      <th>14</th>\n",
       "      <td>2018-01-01 14:00:00</td>\n",
       "      <td>-12.9</td>\n",
       "      <td>-20.1</td>\n",
       "      <td>55.0</td>\n",
       "      <td>0.0</td>\n",
       "      <td>320.0</td>\n",
       "      <td>22.3</td>\n",
       "      <td>1029.0</td>\n",
       "      <td>The Bronx</td>\n",
       "    </tr>\n",
       "    <tr>\n",
       "      <th>15</th>\n",
       "      <td>2018-01-01 15:00:00</td>\n",
       "      <td>-11.2</td>\n",
       "      <td>-20.1</td>\n",
       "      <td>48.0</td>\n",
       "      <td>0.0</td>\n",
       "      <td>320.0</td>\n",
       "      <td>25.9</td>\n",
       "      <td>1029.4</td>\n",
       "      <td>The Bronx</td>\n",
       "    </tr>\n",
       "    <tr>\n",
       "      <th>16</th>\n",
       "      <td>2018-01-01 16:00:00</td>\n",
       "      <td>-10.1</td>\n",
       "      <td>-20.1</td>\n",
       "      <td>44.0</td>\n",
       "      <td>0.0</td>\n",
       "      <td>320.0</td>\n",
       "      <td>25.9</td>\n",
       "      <td>1029.1</td>\n",
       "      <td>The Bronx</td>\n",
       "    </tr>\n",
       "    <tr>\n",
       "      <th>17</th>\n",
       "      <td>2018-01-01 17:00:00</td>\n",
       "      <td>-9.5</td>\n",
       "      <td>-20.1</td>\n",
       "      <td>42.0</td>\n",
       "      <td>0.0</td>\n",
       "      <td>330.0</td>\n",
       "      <td>29.5</td>\n",
       "      <td>1028.5</td>\n",
       "      <td>The Bronx</td>\n",
       "    </tr>\n",
       "    <tr>\n",
       "      <th>18</th>\n",
       "      <td>2018-01-01 18:00:00</td>\n",
       "      <td>-8.4</td>\n",
       "      <td>-20.2</td>\n",
       "      <td>38.0</td>\n",
       "      <td>0.0</td>\n",
       "      <td>330.0</td>\n",
       "      <td>25.9</td>\n",
       "      <td>1027.9</td>\n",
       "      <td>The Bronx</td>\n",
       "    </tr>\n",
       "    <tr>\n",
       "      <th>19</th>\n",
       "      <td>2018-01-01 19:00:00</td>\n",
       "      <td>-7.3</td>\n",
       "      <td>-20.2</td>\n",
       "      <td>35.0</td>\n",
       "      <td>0.0</td>\n",
       "      <td>310.0</td>\n",
       "      <td>25.9</td>\n",
       "      <td>1027.3</td>\n",
       "      <td>The Bronx</td>\n",
       "    </tr>\n",
       "  </tbody>\n",
       "</table>\n",
       "</div>"
      ],
      "text/plain": [
       "                  time  temp  dwpt  rhum  prcp   wdir  wspd    pres    Borough\n",
       "0  2018-01-01 00:00:00 -10.7 -20.1  46.0   NaN  320.0  18.4  1026.7  The Bronx\n",
       "1  2018-01-01 01:00:00 -11.8 -20.6  48.0   0.0  330.0  18.4  1026.7  The Bronx\n",
       "2  2018-01-01 02:00:00 -12.3 -20.6  50.0   0.0  320.0  13.0  1027.0  The Bronx\n",
       "3  2018-01-01 03:00:00 -12.3 -20.6  50.0   0.0  330.0  20.5  1026.8  The Bronx\n",
       "4  2018-01-01 04:00:00 -12.9 -20.1  55.0   0.0  320.0  20.5  1027.1  The Bronx\n",
       "5  2018-01-01 05:00:00 -12.9 -20.1  55.0   0.0  340.0  16.6  1026.9  The Bronx\n",
       "6  2018-01-01 06:00:00 -13.4 -20.1  57.0   0.0  330.0  14.8  1027.1  The Bronx\n",
       "7  2018-01-01 07:00:00 -13.4 -20.1  57.0   0.0  330.0  16.6  1027.4  The Bronx\n",
       "8  2018-01-01 08:00:00 -13.4 -20.7  54.0   0.0  330.0  25.9  1027.6  The Bronx\n",
       "9  2018-01-01 09:00:00 -14.0 -20.7  57.0   0.0  310.0  20.5  1027.7  The Bronx\n",
       "10 2018-01-01 10:00:00 -14.0 -20.7  57.0   0.0  310.0  24.1  1027.8  The Bronx\n",
       "11 2018-01-01 11:00:00 -14.0 -21.1  55.0   0.0  320.0  24.1  1028.0  The Bronx\n",
       "12 2018-01-01 12:00:00 -14.5 -20.8  59.0   0.0  320.0  22.3  1028.5  The Bronx\n",
       "13 2018-01-01 13:00:00 -14.0 -20.7  57.0   0.0  320.0  27.7  1028.7  The Bronx\n",
       "14 2018-01-01 14:00:00 -12.9 -20.1  55.0   0.0  320.0  22.3  1029.0  The Bronx\n",
       "15 2018-01-01 15:00:00 -11.2 -20.1  48.0   0.0  320.0  25.9  1029.4  The Bronx\n",
       "16 2018-01-01 16:00:00 -10.1 -20.1  44.0   0.0  320.0  25.9  1029.1  The Bronx\n",
       "17 2018-01-01 17:00:00  -9.5 -20.1  42.0   0.0  330.0  29.5  1028.5  The Bronx\n",
       "18 2018-01-01 18:00:00  -8.4 -20.2  38.0   0.0  330.0  25.9  1027.9  The Bronx\n",
       "19 2018-01-01 19:00:00  -7.3 -20.2  35.0   0.0  310.0  25.9  1027.3  The Bronx"
      ]
     },
     "execution_count": 7,
     "metadata": {},
     "output_type": "execute_result"
    }
   ],
   "source": [
    "df.head(20)"
   ]
  },
  {
   "cell_type": "code",
   "execution_count": 8,
   "metadata": {},
   "outputs": [],
   "source": [
    "#prcp tiene muy pocos valores nulos. y la mayoria de los casos a la 1am. con lo cual, vamos a asumir que cuando es nulo, es cero \n",
    "df['prcp'].fillna(0, inplace = True)"
   ]
  },
  {
   "cell_type": "code",
   "execution_count": 9,
   "metadata": {},
   "outputs": [
    {
     "name": "stdout",
     "output_type": "stream",
     "text": [
      "<class 'pandas.core.frame.DataFrame'>\n",
      "RangeIndex: 3605 entries, 0 to 3604\n",
      "Data columns (total 9 columns):\n",
      " #   Column   Non-Null Count  Dtype         \n",
      "---  ------   --------------  -----         \n",
      " 0   time     3605 non-null   datetime64[ns]\n",
      " 1   temp     3605 non-null   float64       \n",
      " 2   dwpt     3605 non-null   float64       \n",
      " 3   rhum     3605 non-null   float64       \n",
      " 4   prcp     3605 non-null   float64       \n",
      " 5   wdir     3605 non-null   float64       \n",
      " 6   wspd     3605 non-null   float64       \n",
      " 7   pres     3605 non-null   float64       \n",
      " 8   Borough  3605 non-null   object        \n",
      "dtypes: datetime64[ns](1), float64(7), object(1)\n",
      "memory usage: 253.6+ KB\n",
      "None\n"
     ]
    }
   ],
   "source": [
    "# en cuanto a las columnas wdir (direccion del viento) y pres (presion atmosferica), le impotumos el promedio por borough.\n",
    "\n",
    "a = df['wdir'].mean() #promedio de direccion de viento\n",
    "df['wdir'].fillna(a, inplace=True)\n",
    "   \n",
    "b = df['pres'].mean() #promedio de direccion de viento\n",
    "df['pres'].fillna(b, inplace=True) #promedio de presion atmosferica\n",
    "print(df.info())"
   ]
  },
  {
   "cell_type": "code",
   "execution_count": 10,
   "metadata": {},
   "outputs": [
    {
     "name": "stdout",
     "output_type": "stream",
     "text": [
      "                  time  temp  dwpt  rhum  prcp   wdir  wspd    pres    Borough\n",
      "0  2018-01-01 00:00:00 -10.7 -20.1  46.0   0.0  320.0  18.4  1026.7  The Bronx\n",
      "1  2018-01-01 01:00:00 -11.8 -20.6  48.0   0.0  330.0  18.4  1026.7  The Bronx\n",
      "2  2018-01-01 02:00:00 -12.3 -20.6  50.0   0.0  320.0  13.0  1027.0  The Bronx\n",
      "3  2018-01-01 03:00:00 -12.3 -20.6  50.0   0.0  330.0  20.5  1026.8  The Bronx\n",
      "4  2018-01-01 04:00:00 -12.9 -20.1  55.0   0.0  320.0  20.5  1027.1  The Bronx\n",
      "5  2018-01-01 05:00:00 -12.9 -20.1  55.0   0.0  340.0  16.6  1026.9  The Bronx\n",
      "6  2018-01-01 06:00:00 -13.4 -20.1  57.0   0.0  330.0  14.8  1027.1  The Bronx\n",
      "7  2018-01-01 07:00:00 -13.4 -20.1  57.0   0.0  330.0  16.6  1027.4  The Bronx\n",
      "8  2018-01-01 08:00:00 -13.4 -20.7  54.0   0.0  330.0  25.9  1027.6  The Bronx\n",
      "9  2018-01-01 09:00:00 -14.0 -20.7  57.0   0.0  310.0  20.5  1027.7  The Bronx\n",
      "10 2018-01-01 10:00:00 -14.0 -20.7  57.0   0.0  310.0  24.1  1027.8  The Bronx\n",
      "11 2018-01-01 11:00:00 -14.0 -21.1  55.0   0.0  320.0  24.1  1028.0  The Bronx\n",
      "12 2018-01-01 12:00:00 -14.5 -20.8  59.0   0.0  320.0  22.3  1028.5  The Bronx\n",
      "13 2018-01-01 13:00:00 -14.0 -20.7  57.0   0.0  320.0  27.7  1028.7  The Bronx\n",
      "14 2018-01-01 14:00:00 -12.9 -20.1  55.0   0.0  320.0  22.3  1029.0  The Bronx\n",
      "15 2018-01-01 15:00:00 -11.2 -20.1  48.0   0.0  320.0  25.9  1029.4  The Bronx\n",
      "16 2018-01-01 16:00:00 -10.1 -20.1  44.0   0.0  320.0  25.9  1029.1  The Bronx\n",
      "17 2018-01-01 17:00:00  -9.5 -20.1  42.0   0.0  330.0  29.5  1028.5  The Bronx\n",
      "18 2018-01-01 18:00:00  -8.4 -20.2  38.0   0.0  330.0  25.9  1027.9  The Bronx\n",
      "19 2018-01-01 19:00:00  -7.3 -20.2  35.0   0.0  310.0  25.9  1027.3  The Bronx\n"
     ]
    }
   ],
   "source": [
    "print(df.head(20))"
   ]
  },
  {
   "cell_type": "code",
   "execution_count": 11,
   "metadata": {},
   "outputs": [],
   "source": [
    "#colocamos un nombre adecuado a cada columna\n",
    "df.rename(columns={\"dwpt\": \"dew_point\", \"rhum\": \"hum\", \"prcp\":\"rain\", \"Borough\":\"borough\", \"wdir\":\"wind_dir\", \"wspd\":\"wind_speed\"}, inplace=True)"
   ]
  },
  {
   "cell_type": "code",
   "execution_count": 12,
   "metadata": {},
   "outputs": [
    {
     "data": {
      "text/html": [
       "<div>\n",
       "<style scoped>\n",
       "    .dataframe tbody tr th:only-of-type {\n",
       "        vertical-align: middle;\n",
       "    }\n",
       "\n",
       "    .dataframe tbody tr th {\n",
       "        vertical-align: top;\n",
       "    }\n",
       "\n",
       "    .dataframe thead th {\n",
       "        text-align: right;\n",
       "    }\n",
       "</style>\n",
       "<table border=\"1\" class=\"dataframe\">\n",
       "  <thead>\n",
       "    <tr style=\"text-align: right;\">\n",
       "      <th></th>\n",
       "      <th>time</th>\n",
       "      <th>temp</th>\n",
       "      <th>dew_point</th>\n",
       "      <th>hum</th>\n",
       "      <th>rain</th>\n",
       "      <th>wind_dir</th>\n",
       "      <th>wind_speed</th>\n",
       "      <th>pres</th>\n",
       "      <th>borough</th>\n",
       "    </tr>\n",
       "  </thead>\n",
       "  <tbody>\n",
       "    <tr>\n",
       "      <th>0</th>\n",
       "      <td>2018-01-01 00:00:00</td>\n",
       "      <td>-10.7</td>\n",
       "      <td>-20.1</td>\n",
       "      <td>46.0</td>\n",
       "      <td>0.0</td>\n",
       "      <td>320.0</td>\n",
       "      <td>18.4</td>\n",
       "      <td>1026.7</td>\n",
       "      <td>The Bronx</td>\n",
       "    </tr>\n",
       "    <tr>\n",
       "      <th>1</th>\n",
       "      <td>2018-01-01 01:00:00</td>\n",
       "      <td>-11.8</td>\n",
       "      <td>-20.6</td>\n",
       "      <td>48.0</td>\n",
       "      <td>0.0</td>\n",
       "      <td>330.0</td>\n",
       "      <td>18.4</td>\n",
       "      <td>1026.7</td>\n",
       "      <td>The Bronx</td>\n",
       "    </tr>\n",
       "    <tr>\n",
       "      <th>2</th>\n",
       "      <td>2018-01-01 02:00:00</td>\n",
       "      <td>-12.3</td>\n",
       "      <td>-20.6</td>\n",
       "      <td>50.0</td>\n",
       "      <td>0.0</td>\n",
       "      <td>320.0</td>\n",
       "      <td>13.0</td>\n",
       "      <td>1027.0</td>\n",
       "      <td>The Bronx</td>\n",
       "    </tr>\n",
       "    <tr>\n",
       "      <th>3</th>\n",
       "      <td>2018-01-01 03:00:00</td>\n",
       "      <td>-12.3</td>\n",
       "      <td>-20.6</td>\n",
       "      <td>50.0</td>\n",
       "      <td>0.0</td>\n",
       "      <td>330.0</td>\n",
       "      <td>20.5</td>\n",
       "      <td>1026.8</td>\n",
       "      <td>The Bronx</td>\n",
       "    </tr>\n",
       "    <tr>\n",
       "      <th>4</th>\n",
       "      <td>2018-01-01 04:00:00</td>\n",
       "      <td>-12.9</td>\n",
       "      <td>-20.1</td>\n",
       "      <td>55.0</td>\n",
       "      <td>0.0</td>\n",
       "      <td>320.0</td>\n",
       "      <td>20.5</td>\n",
       "      <td>1027.1</td>\n",
       "      <td>The Bronx</td>\n",
       "    </tr>\n",
       "  </tbody>\n",
       "</table>\n",
       "</div>"
      ],
      "text/plain": [
       "                 time  temp  dew_point   hum  rain  wind_dir  wind_speed  \\\n",
       "0 2018-01-01 00:00:00 -10.7      -20.1  46.0   0.0     320.0        18.4   \n",
       "1 2018-01-01 01:00:00 -11.8      -20.6  48.0   0.0     330.0        18.4   \n",
       "2 2018-01-01 02:00:00 -12.3      -20.6  50.0   0.0     320.0        13.0   \n",
       "3 2018-01-01 03:00:00 -12.3      -20.6  50.0   0.0     330.0        20.5   \n",
       "4 2018-01-01 04:00:00 -12.9      -20.1  55.0   0.0     320.0        20.5   \n",
       "\n",
       "     pres    borough  \n",
       "0  1026.7  The Bronx  \n",
       "1  1026.7  The Bronx  \n",
       "2  1027.0  The Bronx  \n",
       "3  1026.8  The Bronx  \n",
       "4  1027.1  The Bronx  "
      ]
     },
     "execution_count": 12,
     "metadata": {},
     "output_type": "execute_result"
    }
   ],
   "source": [
    "df.head(5)"
   ]
  },
  {
   "cell_type": "code",
   "execution_count": 13,
   "metadata": {},
   "outputs": [
    {
     "data": {
      "text/plain": [
       "array(['The Bronx', 'Brooklyn', 'Manhattan', 'Queens', 'Staten Island'],\n",
       "      dtype=object)"
      ]
     },
     "execution_count": 13,
     "metadata": {},
     "output_type": "execute_result"
    }
   ],
   "source": [
    "df['borough'].unique()"
   ]
  },
  {
   "cell_type": "markdown",
   "metadata": {},
   "source": [
    "creamos una nueva tabla de boroughs"
   ]
  },
  {
   "cell_type": "code",
   "execution_count": 14,
   "metadata": {},
   "outputs": [],
   "source": [
    "df_borough = pd.DataFrame(df['borough'].unique())"
   ]
  },
  {
   "cell_type": "code",
   "execution_count": 15,
   "metadata": {},
   "outputs": [],
   "source": [
    "df_borough.reset_index(inplace = True)"
   ]
  },
  {
   "cell_type": "code",
   "execution_count": 16,
   "metadata": {},
   "outputs": [],
   "source": [
    "df_borough.rename(columns={0: \"borough\", \"index\":\"id_borough\"}, inplace=True)"
   ]
  },
  {
   "cell_type": "markdown",
   "metadata": {},
   "source": [
    "renombramos las columnas "
   ]
  },
  {
   "cell_type": "code",
   "execution_count": 17,
   "metadata": {},
   "outputs": [
    {
     "data": {
      "text/html": [
       "<div>\n",
       "<style scoped>\n",
       "    .dataframe tbody tr th:only-of-type {\n",
       "        vertical-align: middle;\n",
       "    }\n",
       "\n",
       "    .dataframe tbody tr th {\n",
       "        vertical-align: top;\n",
       "    }\n",
       "\n",
       "    .dataframe thead th {\n",
       "        text-align: right;\n",
       "    }\n",
       "</style>\n",
       "<table border=\"1\" class=\"dataframe\">\n",
       "  <thead>\n",
       "    <tr style=\"text-align: right;\">\n",
       "      <th></th>\n",
       "      <th>id_borough</th>\n",
       "      <th>borough</th>\n",
       "    </tr>\n",
       "  </thead>\n",
       "  <tbody>\n",
       "    <tr>\n",
       "      <th>0</th>\n",
       "      <td>0</td>\n",
       "      <td>The Bronx</td>\n",
       "    </tr>\n",
       "    <tr>\n",
       "      <th>1</th>\n",
       "      <td>1</td>\n",
       "      <td>Brooklyn</td>\n",
       "    </tr>\n",
       "    <tr>\n",
       "      <th>2</th>\n",
       "      <td>2</td>\n",
       "      <td>Manhattan</td>\n",
       "    </tr>\n",
       "    <tr>\n",
       "      <th>3</th>\n",
       "      <td>3</td>\n",
       "      <td>Queens</td>\n",
       "    </tr>\n",
       "    <tr>\n",
       "      <th>4</th>\n",
       "      <td>4</td>\n",
       "      <td>Staten Island</td>\n",
       "    </tr>\n",
       "  </tbody>\n",
       "</table>\n",
       "</div>"
      ],
      "text/plain": [
       "   id_borough        borough\n",
       "0           0      The Bronx\n",
       "1           1       Brooklyn\n",
       "2           2      Manhattan\n",
       "3           3         Queens\n",
       "4           4  Staten Island"
      ]
     },
     "execution_count": 17,
     "metadata": {},
     "output_type": "execute_result"
    }
   ],
   "source": [
    "df_borough"
   ]
  },
  {
   "cell_type": "markdown",
   "metadata": {},
   "source": [
    "REEMPLAZAMOS EN LA TABLA PRINCIPAL EL ID_BOROUGH. de manera que normalizamos las tablas "
   ]
  },
  {
   "cell_type": "code",
   "execution_count": 18,
   "metadata": {},
   "outputs": [],
   "source": [
    "df.replace({\"The Bronx\":0, \"Brooklyn\":1, \"Manhattan\":2, \"Queens\":3, \"Staten Island\":4}, inplace=True)"
   ]
  },
  {
   "cell_type": "markdown",
   "metadata": {},
   "source": [
    "renombramos la tabla borough por id_borough"
   ]
  },
  {
   "cell_type": "code",
   "execution_count": 19,
   "metadata": {},
   "outputs": [],
   "source": [
    "df.rename(columns={\"borough\":\"id_borough\"}, inplace=True)"
   ]
  },
  {
   "cell_type": "markdown",
   "metadata": {},
   "source": [
    "Busqueda de outliers"
   ]
  },
  {
   "cell_type": "code",
   "execution_count": 20,
   "metadata": {},
   "outputs": [
    {
     "data": {
      "text/html": [
       "<div>\n",
       "<style scoped>\n",
       "    .dataframe tbody tr th:only-of-type {\n",
       "        vertical-align: middle;\n",
       "    }\n",
       "\n",
       "    .dataframe tbody tr th {\n",
       "        vertical-align: top;\n",
       "    }\n",
       "\n",
       "    .dataframe thead th {\n",
       "        text-align: right;\n",
       "    }\n",
       "</style>\n",
       "<table border=\"1\" class=\"dataframe\">\n",
       "  <thead>\n",
       "    <tr style=\"text-align: right;\">\n",
       "      <th></th>\n",
       "      <th>temp</th>\n",
       "      <th>dew_point</th>\n",
       "      <th>hum</th>\n",
       "      <th>rain</th>\n",
       "      <th>wind_dir</th>\n",
       "      <th>wind_speed</th>\n",
       "      <th>pres</th>\n",
       "      <th>id_borough</th>\n",
       "    </tr>\n",
       "  </thead>\n",
       "  <tbody>\n",
       "    <tr>\n",
       "      <th>count</th>\n",
       "      <td>3605.000000</td>\n",
       "      <td>3605.000000</td>\n",
       "      <td>3605.00000</td>\n",
       "      <td>3605.000000</td>\n",
       "      <td>3605.000000</td>\n",
       "      <td>3605.000000</td>\n",
       "      <td>3605.000000</td>\n",
       "      <td>3605.00000</td>\n",
       "    </tr>\n",
       "    <tr>\n",
       "      <th>mean</th>\n",
       "      <td>-0.463689</td>\n",
       "      <td>-7.273481</td>\n",
       "      <td>62.25742</td>\n",
       "      <td>1.280999</td>\n",
       "      <td>219.203143</td>\n",
       "      <td>15.330624</td>\n",
       "      <td>1022.250736</td>\n",
       "      <td>2.00000</td>\n",
       "    </tr>\n",
       "    <tr>\n",
       "      <th>std</th>\n",
       "      <td>7.162214</td>\n",
       "      <td>9.114539</td>\n",
       "      <td>18.60086</td>\n",
       "      <td>17.355179</td>\n",
       "      <td>107.010296</td>\n",
       "      <td>10.717785</td>\n",
       "      <td>9.914856</td>\n",
       "      <td>1.41441</td>\n",
       "    </tr>\n",
       "    <tr>\n",
       "      <th>min</th>\n",
       "      <td>-16.800000</td>\n",
       "      <td>-25.600000</td>\n",
       "      <td>18.00000</td>\n",
       "      <td>0.000000</td>\n",
       "      <td>10.000000</td>\n",
       "      <td>0.000000</td>\n",
       "      <td>989.400000</td>\n",
       "      <td>0.00000</td>\n",
       "    </tr>\n",
       "    <tr>\n",
       "      <th>25%</th>\n",
       "      <td>-5.700000</td>\n",
       "      <td>-14.600000</td>\n",
       "      <td>49.00000</td>\n",
       "      <td>0.000000</td>\n",
       "      <td>160.000000</td>\n",
       "      <td>7.600000</td>\n",
       "      <td>1016.800000</td>\n",
       "      <td>1.00000</td>\n",
       "    </tr>\n",
       "    <tr>\n",
       "      <th>50%</th>\n",
       "      <td>-0.700000</td>\n",
       "      <td>-7.200000</td>\n",
       "      <td>59.00000</td>\n",
       "      <td>0.000000</td>\n",
       "      <td>250.000000</td>\n",
       "      <td>14.800000</td>\n",
       "      <td>1023.100000</td>\n",
       "      <td>2.00000</td>\n",
       "    </tr>\n",
       "    <tr>\n",
       "      <th>75%</th>\n",
       "      <td>4.900000</td>\n",
       "      <td>-1.300000</td>\n",
       "      <td>75.00000</td>\n",
       "      <td>0.000000</td>\n",
       "      <td>310.000000</td>\n",
       "      <td>22.300000</td>\n",
       "      <td>1029.100000</td>\n",
       "      <td>3.00000</td>\n",
       "    </tr>\n",
       "    <tr>\n",
       "      <th>max</th>\n",
       "      <td>17.900000</td>\n",
       "      <td>16.800000</td>\n",
       "      <td>100.00000</td>\n",
       "      <td>253.700000</td>\n",
       "      <td>360.000000</td>\n",
       "      <td>57.600000</td>\n",
       "      <td>1041.100000</td>\n",
       "      <td>4.00000</td>\n",
       "    </tr>\n",
       "  </tbody>\n",
       "</table>\n",
       "</div>"
      ],
      "text/plain": [
       "              temp    dew_point         hum         rain     wind_dir  \\\n",
       "count  3605.000000  3605.000000  3605.00000  3605.000000  3605.000000   \n",
       "mean     -0.463689    -7.273481    62.25742     1.280999   219.203143   \n",
       "std       7.162214     9.114539    18.60086    17.355179   107.010296   \n",
       "min     -16.800000   -25.600000    18.00000     0.000000    10.000000   \n",
       "25%      -5.700000   -14.600000    49.00000     0.000000   160.000000   \n",
       "50%      -0.700000    -7.200000    59.00000     0.000000   250.000000   \n",
       "75%       4.900000    -1.300000    75.00000     0.000000   310.000000   \n",
       "max      17.900000    16.800000   100.00000   253.700000   360.000000   \n",
       "\n",
       "        wind_speed         pres  id_borough  \n",
       "count  3605.000000  3605.000000  3605.00000  \n",
       "mean     15.330624  1022.250736     2.00000  \n",
       "std      10.717785     9.914856     1.41441  \n",
       "min       0.000000   989.400000     0.00000  \n",
       "25%       7.600000  1016.800000     1.00000  \n",
       "50%      14.800000  1023.100000     2.00000  \n",
       "75%      22.300000  1029.100000     3.00000  \n",
       "max      57.600000  1041.100000     4.00000  "
      ]
     },
     "execution_count": 20,
     "metadata": {},
     "output_type": "execute_result"
    }
   ],
   "source": [
    "df.describe()"
   ]
  },
  {
   "cell_type": "markdown",
   "metadata": {},
   "source": [
    "a simple vista, los datos pareces ser coherentes salvo en el caso de rain, \n",
    "tien una maxima de 253 lo cual es lalmativo"
   ]
  },
  {
   "cell_type": "markdown",
   "metadata": {},
   "source": [
    "graficamos un histograma para cada variable"
   ]
  },
  {
   "cell_type": "code",
   "execution_count": 20,
   "metadata": {},
   "outputs": [
    {
     "data": {
      "text/plain": [
       "<AxesSubplot:title={'center':'Distribucion de temp'}, xlabel='temp', ylabel='Count'>"
      ]
     },
     "execution_count": 20,
     "metadata": {},
     "output_type": "execute_result"
    },
    {
     "data": {
      "image/png": "[encoded data removed]",
      "text/plain": [
       "<Figure size 432x288 with 1 Axes>"
      ]
     },
     "metadata": {},
     "output_type": "display_data"
    }
   ],
   "source": [
    "import seaborn as sns\n",
    "\n",
    "sns.set_style(\"darkgrid\")\n",
    "plt.title(\"Distribucion de temp\")\n",
    "sns.histplot(data=df, x=\"temp\", binwidth=10)\n"
   ]
  },
  {
   "cell_type": "code",
   "execution_count": 22,
   "metadata": {},
   "outputs": [
    {
     "data": {
      "text/plain": [
       "<AxesSubplot:title={'center':'Distribucion de dew_point'}, xlabel='dew_point', ylabel='Count'>"
      ]
     },
     "execution_count": 22,
     "metadata": {},
     "output_type": "execute_result"
    },
    {
     "data": {
      "image/png": "[encoded data removed]",
      "text/plain": [
       "<Figure size 432x288 with 1 Axes>"
      ]
     },
     "metadata": {},
     "output_type": "display_data"
    }
   ],
   "source": [
    "sns.set_style(\"darkgrid\")\n",
    "plt.title(\"Distribucion de dew_point\")\n",
    "sns.histplot(data=df, x=\"dew_point\", binwidth=10)"
   ]
  },
  {
   "cell_type": "code",
   "execution_count": 23,
   "metadata": {},
   "outputs": [
    {
     "data": {
      "text/plain": [
       "<AxesSubplot:title={'center':'Distribucion de hum'}, xlabel='hum', ylabel='Count'>"
      ]
     },
     "execution_count": 23,
     "metadata": {},
     "output_type": "execute_result"
    },
    {
     "data": {
      "image/png": "[encoded data removed]",
      "text/plain": [
       "<Figure size 432x288 with 1 Axes>"
      ]
     },
     "metadata": {},
     "output_type": "display_data"
    }
   ],
   "source": [
    "sns.set_style(\"darkgrid\")\n",
    "plt.title(\"Distribucion de hum\")\n",
    "sns.histplot(data=df, x=\"hum\", binwidth=12)"
   ]
  },
  {
   "cell_type": "code",
   "execution_count": 24,
   "metadata": {},
   "outputs": [
    {
     "data": {
      "text/plain": [
       "<AxesSubplot:title={'center':'Distribucion de rain'}, xlabel='rain', ylabel='Count'>"
      ]
     },
     "execution_count": 24,
     "metadata": {},
     "output_type": "execute_result"
    },
    {
     "data": {
      "image/png": "[encoded data removed]",
      "text/plain": [
       "<Figure size 432x288 with 1 Axes>"
      ]
     },
     "metadata": {},
     "output_type": "display_data"
    }
   ],
   "source": [
    "sns.set_style(\"darkgrid\")\n",
    "plt.title(\"Distribucion de rain\")\n",
    "sns.histplot(data=df, x=\"rain\", binwidth=2)"
   ]
  },
  {
   "cell_type": "markdown",
   "metadata": {},
   "source": [
    "el grafico anterior nos muestra que POSIBLEMENTE existen algunos pocos outliers, probablemente errores de medicion"
   ]
  },
  {
   "cell_type": "code",
   "execution_count": 25,
   "metadata": {},
   "outputs": [
    {
     "data": {
      "text/plain": [
       "<AxesSubplot:title={'center':'Distribucion de wind_dir'}, xlabel='wind_dir', ylabel='Count'>"
      ]
     },
     "execution_count": 25,
     "metadata": {},
     "output_type": "execute_result"
    },
    {
     "data": {
      "image/png": "[encoded data removed]",
      "text/plain": [
       "<Figure size 432x288 with 1 Axes>"
      ]
     },
     "metadata": {},
     "output_type": "display_data"
    }
   ],
   "source": [
    "sns.set_style(\"darkgrid\")\n",
    "plt.title(\"Distribucion de wind_dir\")\n",
    "sns.histplot(data=df, x=\"wind_dir\", binwidth=2)"
   ]
  },
  {
   "cell_type": "code",
   "execution_count": 26,
   "metadata": {},
   "outputs": [
    {
     "data": {
      "text/plain": [
       "<AxesSubplot:title={'center':'Distribucion de wind_speed'}, xlabel='wind_speed', ylabel='Count'>"
      ]
     },
     "execution_count": 26,
     "metadata": {},
     "output_type": "execute_result"
    },
    {
     "data": {
      "image/png": "[encoded data removed]",
      "text/plain": [
       "<Figure size 432x288 with 1 Axes>"
      ]
     },
     "metadata": {},
     "output_type": "display_data"
    }
   ],
   "source": [
    "sns.set_style(\"darkgrid\")\n",
    "plt.title(\"Distribucion de wind_speed\")\n",
    "sns.histplot(data=df, x=\"wind_speed\", binwidth=2)"
   ]
  },
  {
   "cell_type": "code",
   "execution_count": 27,
   "metadata": {},
   "outputs": [
    {
     "data": {
      "text/plain": [
       "<AxesSubplot:title={'center':'Distribucion de pres'}, xlabel='pres', ylabel='Count'>"
      ]
     },
     "execution_count": 27,
     "metadata": {},
     "output_type": "execute_result"
    },
    {
     "data": {
      "image/png": "[encoded data removed]",
      "text/plain": [
       "<Figure size 432x288 with 1 Axes>"
      ]
     },
     "metadata": {},
     "output_type": "display_data"
    }
   ],
   "source": [
    "sns.set_style(\"darkgrid\")\n",
    "plt.title(\"Distribucion de pres\")\n",
    "sns.histplot(data=df, x=\"pres\", binwidth=2)"
   ]
  },
  {
   "cell_type": "markdown",
   "metadata": {},
   "source": [
    "Al parecer, la unica columna que posiblemente tiene outliers es rain\n",
    "se investiga las columnas mas en produndidad, ordenando los valores de mayor a menor"
   ]
  },
  {
   "cell_type": "code",
   "execution_count": 28,
   "metadata": {},
   "outputs": [
    {
     "data": {
      "text/plain": [
       "1747    253.7\n",
       "1853    253.7\n",
       "1742    253.7\n",
       "1723    253.7\n",
       "1752    253.7\n",
       "1820    253.7\n",
       "1658    253.7\n",
       "1697    253.7\n",
       "1514    253.4\n",
       "1019    253.2\n",
       "720     253.2\n",
       "3182    253.2\n",
       "1740    253.2\n",
       "2162    253.2\n",
       "2461    253.2\n",
       "1624    252.7\n",
       "1679    251.7\n",
       "3168      5.6\n",
       "1005      4.3\n",
       "811       4.1\n",
       "Name: rain, dtype: float64"
      ]
     },
     "execution_count": 28,
     "metadata": {},
     "output_type": "execute_result"
    }
   ],
   "source": [
    "df['rain'].sort_values(ascending=False).head(20)"
   ]
  },
  {
   "cell_type": "markdown",
   "metadata": {},
   "source": [
    "no es sencillo determinar si se trata de outliers, ya que estan por debajo del record historico de precipitacion por hora\n",
    "\n",
    "https://es.wikipedia.org/wiki/Anexo:R%C3%A9cords_meteorol%C3%B3gicos_mundiales#:~:text=1%20hora%3A%20305%20mm%20%28en%2042%20minutos%29%20Holt,Estados%20Unidos%29%2C%2022%20de%20junio%20de%201947.%2065\n",
    "\n",
    "Con lo cual son valores plausibles\n"
   ]
  },
  {
   "cell_type": "code",
   "execution_count": 35,
   "metadata": {},
   "outputs": [
    {
     "data": {
      "text/html": [
       "<div>\n",
       "<style scoped>\n",
       "    .dataframe tbody tr th:only-of-type {\n",
       "        vertical-align: middle;\n",
       "    }\n",
       "\n",
       "    .dataframe tbody tr th {\n",
       "        vertical-align: top;\n",
       "    }\n",
       "\n",
       "    .dataframe thead th {\n",
       "        text-align: right;\n",
       "    }\n",
       "</style>\n",
       "<table border=\"1\" class=\"dataframe\">\n",
       "  <thead>\n",
       "    <tr style=\"text-align: right;\">\n",
       "      <th></th>\n",
       "      <th>time</th>\n",
       "      <th>temp</th>\n",
       "      <th>dew_point</th>\n",
       "      <th>hum</th>\n",
       "      <th>rain</th>\n",
       "      <th>wind_dir</th>\n",
       "      <th>wind_speed</th>\n",
       "      <th>pres</th>\n",
       "      <th>id_borough</th>\n",
       "    </tr>\n",
       "  </thead>\n",
       "  <tbody>\n",
       "    <tr>\n",
       "      <th>720</th>\n",
       "      <td>2018-01-31 00:00:00</td>\n",
       "      <td>-1.8</td>\n",
       "      <td>-10.6</td>\n",
       "      <td>51.0</td>\n",
       "      <td>253.2</td>\n",
       "      <td>320.000000</td>\n",
       "      <td>35.3</td>\n",
       "      <td>1018.4</td>\n",
       "      <td>0</td>\n",
       "    </tr>\n",
       "    <tr>\n",
       "      <th>1019</th>\n",
       "      <td>2018-01-13 10:00:00</td>\n",
       "      <td>12.1</td>\n",
       "      <td>11.6</td>\n",
       "      <td>97.0</td>\n",
       "      <td>253.2</td>\n",
       "      <td>130.000000</td>\n",
       "      <td>7.6</td>\n",
       "      <td>993.1</td>\n",
       "      <td>1</td>\n",
       "    </tr>\n",
       "    <tr>\n",
       "      <th>1514</th>\n",
       "      <td>2018-01-04 00:00:00</td>\n",
       "      <td>-1.9</td>\n",
       "      <td>-7.4</td>\n",
       "      <td>66.0</td>\n",
       "      <td>253.4</td>\n",
       "      <td>120.000000</td>\n",
       "      <td>7.6</td>\n",
       "      <td>1021.0</td>\n",
       "      <td>2</td>\n",
       "    </tr>\n",
       "    <tr>\n",
       "      <th>1624</th>\n",
       "      <td>2018-01-08 14:00:00</td>\n",
       "      <td>-5.8</td>\n",
       "      <td>-11.3</td>\n",
       "      <td>65.0</td>\n",
       "      <td>252.7</td>\n",
       "      <td>240.000000</td>\n",
       "      <td>14.8</td>\n",
       "      <td>1024.3</td>\n",
       "      <td>2</td>\n",
       "    </tr>\n",
       "    <tr>\n",
       "      <th>1658</th>\n",
       "      <td>2018-01-10 00:00:00</td>\n",
       "      <td>3.7</td>\n",
       "      <td>-5.3</td>\n",
       "      <td>52.0</td>\n",
       "      <td>253.7</td>\n",
       "      <td>330.000000</td>\n",
       "      <td>0.0</td>\n",
       "      <td>1025.8</td>\n",
       "      <td>2</td>\n",
       "    </tr>\n",
       "    <tr>\n",
       "      <th>1679</th>\n",
       "      <td>2018-01-10 21:00:00</td>\n",
       "      <td>4.2</td>\n",
       "      <td>-2.9</td>\n",
       "      <td>60.0</td>\n",
       "      <td>251.7</td>\n",
       "      <td>160.000000</td>\n",
       "      <td>5.4</td>\n",
       "      <td>1030.3</td>\n",
       "      <td>2</td>\n",
       "    </tr>\n",
       "    <tr>\n",
       "      <th>1697</th>\n",
       "      <td>2018-01-11 15:00:00</td>\n",
       "      <td>4.8</td>\n",
       "      <td>2.7</td>\n",
       "      <td>86.0</td>\n",
       "      <td>253.7</td>\n",
       "      <td>219.203143</td>\n",
       "      <td>0.0</td>\n",
       "      <td>1029.3</td>\n",
       "      <td>2</td>\n",
       "    </tr>\n",
       "    <tr>\n",
       "      <th>1723</th>\n",
       "      <td>2018-01-12 17:00:00</td>\n",
       "      <td>14.8</td>\n",
       "      <td>14.2</td>\n",
       "      <td>96.0</td>\n",
       "      <td>253.7</td>\n",
       "      <td>240.000000</td>\n",
       "      <td>13.0</td>\n",
       "      <td>1010.8</td>\n",
       "      <td>2</td>\n",
       "    </tr>\n",
       "    <tr>\n",
       "      <th>1740</th>\n",
       "      <td>2018-01-13 10:00:00</td>\n",
       "      <td>10.9</td>\n",
       "      <td>10.4</td>\n",
       "      <td>97.0</td>\n",
       "      <td>253.2</td>\n",
       "      <td>280.000000</td>\n",
       "      <td>9.4</td>\n",
       "      <td>992.6</td>\n",
       "      <td>2</td>\n",
       "    </tr>\n",
       "    <tr>\n",
       "      <th>1742</th>\n",
       "      <td>2018-01-13 12:00:00</td>\n",
       "      <td>6.5</td>\n",
       "      <td>4.8</td>\n",
       "      <td>89.0</td>\n",
       "      <td>253.7</td>\n",
       "      <td>310.000000</td>\n",
       "      <td>5.4</td>\n",
       "      <td>999.1</td>\n",
       "      <td>2</td>\n",
       "    </tr>\n",
       "    <tr>\n",
       "      <th>1747</th>\n",
       "      <td>2018-01-13 17:00:00</td>\n",
       "      <td>1.5</td>\n",
       "      <td>-8.1</td>\n",
       "      <td>49.0</td>\n",
       "      <td>253.7</td>\n",
       "      <td>330.000000</td>\n",
       "      <td>7.6</td>\n",
       "      <td>1012.0</td>\n",
       "      <td>2</td>\n",
       "    </tr>\n",
       "    <tr>\n",
       "      <th>1752</th>\n",
       "      <td>2018-01-13 22:00:00</td>\n",
       "      <td>-0.2</td>\n",
       "      <td>-7.9</td>\n",
       "      <td>56.0</td>\n",
       "      <td>253.7</td>\n",
       "      <td>320.000000</td>\n",
       "      <td>5.4</td>\n",
       "      <td>1020.2</td>\n",
       "      <td>2</td>\n",
       "    </tr>\n",
       "    <tr>\n",
       "      <th>1820</th>\n",
       "      <td>2018-01-16 18:00:00</td>\n",
       "      <td>2.6</td>\n",
       "      <td>-0.9</td>\n",
       "      <td>78.0</td>\n",
       "      <td>253.7</td>\n",
       "      <td>30.000000</td>\n",
       "      <td>5.4</td>\n",
       "      <td>1030.5</td>\n",
       "      <td>2</td>\n",
       "    </tr>\n",
       "    <tr>\n",
       "      <th>1853</th>\n",
       "      <td>2018-01-18 03:00:00</td>\n",
       "      <td>-4.1</td>\n",
       "      <td>-10.1</td>\n",
       "      <td>63.0</td>\n",
       "      <td>253.7</td>\n",
       "      <td>330.000000</td>\n",
       "      <td>7.6</td>\n",
       "      <td>1022.4</td>\n",
       "      <td>2</td>\n",
       "    </tr>\n",
       "    <tr>\n",
       "      <th>2162</th>\n",
       "      <td>2018-01-31 00:00:00</td>\n",
       "      <td>-0.8</td>\n",
       "      <td>-8.1</td>\n",
       "      <td>58.0</td>\n",
       "      <td>253.2</td>\n",
       "      <td>320.000000</td>\n",
       "      <td>9.4</td>\n",
       "      <td>1018.4</td>\n",
       "      <td>2</td>\n",
       "    </tr>\n",
       "    <tr>\n",
       "      <th>2461</th>\n",
       "      <td>2018-01-13 10:00:00</td>\n",
       "      <td>9.3</td>\n",
       "      <td>9.3</td>\n",
       "      <td>100.0</td>\n",
       "      <td>253.2</td>\n",
       "      <td>190.000000</td>\n",
       "      <td>48.2</td>\n",
       "      <td>994.2</td>\n",
       "      <td>3</td>\n",
       "    </tr>\n",
       "    <tr>\n",
       "      <th>3182</th>\n",
       "      <td>2018-01-13 10:00:00</td>\n",
       "      <td>15.4</td>\n",
       "      <td>14.9</td>\n",
       "      <td>97.0</td>\n",
       "      <td>253.2</td>\n",
       "      <td>220.000000</td>\n",
       "      <td>9.4</td>\n",
       "      <td>993.1</td>\n",
       "      <td>4</td>\n",
       "    </tr>\n",
       "  </tbody>\n",
       "</table>\n",
       "</div>"
      ],
      "text/plain": [
       "                    time  temp  dew_point    hum   rain    wind_dir  \\\n",
       "720  2018-01-31 00:00:00  -1.8      -10.6   51.0  253.2  320.000000   \n",
       "1019 2018-01-13 10:00:00  12.1       11.6   97.0  253.2  130.000000   \n",
       "1514 2018-01-04 00:00:00  -1.9       -7.4   66.0  253.4  120.000000   \n",
       "1624 2018-01-08 14:00:00  -5.8      -11.3   65.0  252.7  240.000000   \n",
       "1658 2018-01-10 00:00:00   3.7       -5.3   52.0  253.7  330.000000   \n",
       "1679 2018-01-10 21:00:00   4.2       -2.9   60.0  251.7  160.000000   \n",
       "1697 2018-01-11 15:00:00   4.8        2.7   86.0  253.7  219.203143   \n",
       "1723 2018-01-12 17:00:00  14.8       14.2   96.0  253.7  240.000000   \n",
       "1740 2018-01-13 10:00:00  10.9       10.4   97.0  253.2  280.000000   \n",
       "1742 2018-01-13 12:00:00   6.5        4.8   89.0  253.7  310.000000   \n",
       "1747 2018-01-13 17:00:00   1.5       -8.1   49.0  253.7  330.000000   \n",
       "1752 2018-01-13 22:00:00  -0.2       -7.9   56.0  253.7  320.000000   \n",
       "1820 2018-01-16 18:00:00   2.6       -0.9   78.0  253.7   30.000000   \n",
       "1853 2018-01-18 03:00:00  -4.1      -10.1   63.0  253.7  330.000000   \n",
       "2162 2018-01-31 00:00:00  -0.8       -8.1   58.0  253.2  320.000000   \n",
       "2461 2018-01-13 10:00:00   9.3        9.3  100.0  253.2  190.000000   \n",
       "3182 2018-01-13 10:00:00  15.4       14.9   97.0  253.2  220.000000   \n",
       "\n",
       "      wind_speed    pres  id_borough  \n",
       "720         35.3  1018.4           0  \n",
       "1019         7.6   993.1           1  \n",
       "1514         7.6  1021.0           2  \n",
       "1624        14.8  1024.3           2  \n",
       "1658         0.0  1025.8           2  \n",
       "1679         5.4  1030.3           2  \n",
       "1697         0.0  1029.3           2  \n",
       "1723        13.0  1010.8           2  \n",
       "1740         9.4   992.6           2  \n",
       "1742         5.4   999.1           2  \n",
       "1747         7.6  1012.0           2  \n",
       "1752         5.4  1020.2           2  \n",
       "1820         5.4  1030.5           2  \n",
       "1853         7.6  1022.4           2  \n",
       "2162         9.4  1018.4           2  \n",
       "2461        48.2   994.2           3  \n",
       "3182         9.4   993.1           4  "
      ]
     },
     "execution_count": 35,
     "metadata": {},
     "output_type": "execute_result"
    }
   ],
   "source": [
    "df[df[\"rain\"] > 10]"
   ]
  },
  {
   "cell_type": "code",
   "execution_count": 37,
   "metadata": {},
   "outputs": [
    {
     "data": {
      "text/html": [
       "<div>\n",
       "<style scoped>\n",
       "    .dataframe tbody tr th:only-of-type {\n",
       "        vertical-align: middle;\n",
       "    }\n",
       "\n",
       "    .dataframe tbody tr th {\n",
       "        vertical-align: top;\n",
       "    }\n",
       "\n",
       "    .dataframe thead th {\n",
       "        text-align: right;\n",
       "    }\n",
       "</style>\n",
       "<table border=\"1\" class=\"dataframe\">\n",
       "  <thead>\n",
       "    <tr style=\"text-align: right;\">\n",
       "      <th></th>\n",
       "      <th>time</th>\n",
       "      <th>temp</th>\n",
       "      <th>dew_point</th>\n",
       "      <th>hum</th>\n",
       "      <th>rain</th>\n",
       "      <th>wind_dir</th>\n",
       "      <th>wind_speed</th>\n",
       "      <th>pres</th>\n",
       "      <th>id_borough</th>\n",
       "    </tr>\n",
       "  </thead>\n",
       "  <tbody>\n",
       "    <tr>\n",
       "      <th>720</th>\n",
       "      <td>2018-01-31 00:00:00</td>\n",
       "      <td>-1.8</td>\n",
       "      <td>-10.6</td>\n",
       "      <td>51.0</td>\n",
       "      <td>253.2</td>\n",
       "      <td>320.000000</td>\n",
       "      <td>35.3</td>\n",
       "      <td>1018.4</td>\n",
       "      <td>0</td>\n",
       "    </tr>\n",
       "    <tr>\n",
       "      <th>1019</th>\n",
       "      <td>2018-01-13 10:00:00</td>\n",
       "      <td>12.1</td>\n",
       "      <td>11.6</td>\n",
       "      <td>97.0</td>\n",
       "      <td>253.2</td>\n",
       "      <td>130.000000</td>\n",
       "      <td>7.6</td>\n",
       "      <td>993.1</td>\n",
       "      <td>1</td>\n",
       "    </tr>\n",
       "    <tr>\n",
       "      <th>1514</th>\n",
       "      <td>2018-01-04 00:00:00</td>\n",
       "      <td>-1.9</td>\n",
       "      <td>-7.4</td>\n",
       "      <td>66.0</td>\n",
       "      <td>253.4</td>\n",
       "      <td>120.000000</td>\n",
       "      <td>7.6</td>\n",
       "      <td>1021.0</td>\n",
       "      <td>2</td>\n",
       "    </tr>\n",
       "    <tr>\n",
       "      <th>1624</th>\n",
       "      <td>2018-01-08 14:00:00</td>\n",
       "      <td>-5.8</td>\n",
       "      <td>-11.3</td>\n",
       "      <td>65.0</td>\n",
       "      <td>252.7</td>\n",
       "      <td>240.000000</td>\n",
       "      <td>14.8</td>\n",
       "      <td>1024.3</td>\n",
       "      <td>2</td>\n",
       "    </tr>\n",
       "    <tr>\n",
       "      <th>1658</th>\n",
       "      <td>2018-01-10 00:00:00</td>\n",
       "      <td>3.7</td>\n",
       "      <td>-5.3</td>\n",
       "      <td>52.0</td>\n",
       "      <td>253.7</td>\n",
       "      <td>330.000000</td>\n",
       "      <td>0.0</td>\n",
       "      <td>1025.8</td>\n",
       "      <td>2</td>\n",
       "    </tr>\n",
       "    <tr>\n",
       "      <th>1679</th>\n",
       "      <td>2018-01-10 21:00:00</td>\n",
       "      <td>4.2</td>\n",
       "      <td>-2.9</td>\n",
       "      <td>60.0</td>\n",
       "      <td>251.7</td>\n",
       "      <td>160.000000</td>\n",
       "      <td>5.4</td>\n",
       "      <td>1030.3</td>\n",
       "      <td>2</td>\n",
       "    </tr>\n",
       "    <tr>\n",
       "      <th>1697</th>\n",
       "      <td>2018-01-11 15:00:00</td>\n",
       "      <td>4.8</td>\n",
       "      <td>2.7</td>\n",
       "      <td>86.0</td>\n",
       "      <td>253.7</td>\n",
       "      <td>219.203143</td>\n",
       "      <td>0.0</td>\n",
       "      <td>1029.3</td>\n",
       "      <td>2</td>\n",
       "    </tr>\n",
       "    <tr>\n",
       "      <th>1723</th>\n",
       "      <td>2018-01-12 17:00:00</td>\n",
       "      <td>14.8</td>\n",
       "      <td>14.2</td>\n",
       "      <td>96.0</td>\n",
       "      <td>253.7</td>\n",
       "      <td>240.000000</td>\n",
       "      <td>13.0</td>\n",
       "      <td>1010.8</td>\n",
       "      <td>2</td>\n",
       "    </tr>\n",
       "    <tr>\n",
       "      <th>1740</th>\n",
       "      <td>2018-01-13 10:00:00</td>\n",
       "      <td>10.9</td>\n",
       "      <td>10.4</td>\n",
       "      <td>97.0</td>\n",
       "      <td>253.2</td>\n",
       "      <td>280.000000</td>\n",
       "      <td>9.4</td>\n",
       "      <td>992.6</td>\n",
       "      <td>2</td>\n",
       "    </tr>\n",
       "    <tr>\n",
       "      <th>1742</th>\n",
       "      <td>2018-01-13 12:00:00</td>\n",
       "      <td>6.5</td>\n",
       "      <td>4.8</td>\n",
       "      <td>89.0</td>\n",
       "      <td>253.7</td>\n",
       "      <td>310.000000</td>\n",
       "      <td>5.4</td>\n",
       "      <td>999.1</td>\n",
       "      <td>2</td>\n",
       "    </tr>\n",
       "    <tr>\n",
       "      <th>1747</th>\n",
       "      <td>2018-01-13 17:00:00</td>\n",
       "      <td>1.5</td>\n",
       "      <td>-8.1</td>\n",
       "      <td>49.0</td>\n",
       "      <td>253.7</td>\n",
       "      <td>330.000000</td>\n",
       "      <td>7.6</td>\n",
       "      <td>1012.0</td>\n",
       "      <td>2</td>\n",
       "    </tr>\n",
       "    <tr>\n",
       "      <th>1752</th>\n",
       "      <td>2018-01-13 22:00:00</td>\n",
       "      <td>-0.2</td>\n",
       "      <td>-7.9</td>\n",
       "      <td>56.0</td>\n",
       "      <td>253.7</td>\n",
       "      <td>320.000000</td>\n",
       "      <td>5.4</td>\n",
       "      <td>1020.2</td>\n",
       "      <td>2</td>\n",
       "    </tr>\n",
       "    <tr>\n",
       "      <th>1820</th>\n",
       "      <td>2018-01-16 18:00:00</td>\n",
       "      <td>2.6</td>\n",
       "      <td>-0.9</td>\n",
       "      <td>78.0</td>\n",
       "      <td>253.7</td>\n",
       "      <td>30.000000</td>\n",
       "      <td>5.4</td>\n",
       "      <td>1030.5</td>\n",
       "      <td>2</td>\n",
       "    </tr>\n",
       "    <tr>\n",
       "      <th>1853</th>\n",
       "      <td>2018-01-18 03:00:00</td>\n",
       "      <td>-4.1</td>\n",
       "      <td>-10.1</td>\n",
       "      <td>63.0</td>\n",
       "      <td>253.7</td>\n",
       "      <td>330.000000</td>\n",
       "      <td>7.6</td>\n",
       "      <td>1022.4</td>\n",
       "      <td>2</td>\n",
       "    </tr>\n",
       "    <tr>\n",
       "      <th>2162</th>\n",
       "      <td>2018-01-31 00:00:00</td>\n",
       "      <td>-0.8</td>\n",
       "      <td>-8.1</td>\n",
       "      <td>58.0</td>\n",
       "      <td>253.2</td>\n",
       "      <td>320.000000</td>\n",
       "      <td>9.4</td>\n",
       "      <td>1018.4</td>\n",
       "      <td>2</td>\n",
       "    </tr>\n",
       "    <tr>\n",
       "      <th>2461</th>\n",
       "      <td>2018-01-13 10:00:00</td>\n",
       "      <td>9.3</td>\n",
       "      <td>9.3</td>\n",
       "      <td>100.0</td>\n",
       "      <td>253.2</td>\n",
       "      <td>190.000000</td>\n",
       "      <td>48.2</td>\n",
       "      <td>994.2</td>\n",
       "      <td>3</td>\n",
       "    </tr>\n",
       "    <tr>\n",
       "      <th>3182</th>\n",
       "      <td>2018-01-13 10:00:00</td>\n",
       "      <td>15.4</td>\n",
       "      <td>14.9</td>\n",
       "      <td>97.0</td>\n",
       "      <td>253.2</td>\n",
       "      <td>220.000000</td>\n",
       "      <td>9.4</td>\n",
       "      <td>993.1</td>\n",
       "      <td>4</td>\n",
       "    </tr>\n",
       "  </tbody>\n",
       "</table>\n",
       "</div>"
      ],
      "text/plain": [
       "                    time  temp  dew_point    hum   rain    wind_dir  \\\n",
       "720  2018-01-31 00:00:00  -1.8      -10.6   51.0  253.2  320.000000   \n",
       "1019 2018-01-13 10:00:00  12.1       11.6   97.0  253.2  130.000000   \n",
       "1514 2018-01-04 00:00:00  -1.9       -7.4   66.0  253.4  120.000000   \n",
       "1624 2018-01-08 14:00:00  -5.8      -11.3   65.0  252.7  240.000000   \n",
       "1658 2018-01-10 00:00:00   3.7       -5.3   52.0  253.7  330.000000   \n",
       "1679 2018-01-10 21:00:00   4.2       -2.9   60.0  251.7  160.000000   \n",
       "1697 2018-01-11 15:00:00   4.8        2.7   86.0  253.7  219.203143   \n",
       "1723 2018-01-12 17:00:00  14.8       14.2   96.0  253.7  240.000000   \n",
       "1740 2018-01-13 10:00:00  10.9       10.4   97.0  253.2  280.000000   \n",
       "1742 2018-01-13 12:00:00   6.5        4.8   89.0  253.7  310.000000   \n",
       "1747 2018-01-13 17:00:00   1.5       -8.1   49.0  253.7  330.000000   \n",
       "1752 2018-01-13 22:00:00  -0.2       -7.9   56.0  253.7  320.000000   \n",
       "1820 2018-01-16 18:00:00   2.6       -0.9   78.0  253.7   30.000000   \n",
       "1853 2018-01-18 03:00:00  -4.1      -10.1   63.0  253.7  330.000000   \n",
       "2162 2018-01-31 00:00:00  -0.8       -8.1   58.0  253.2  320.000000   \n",
       "2461 2018-01-13 10:00:00   9.3        9.3  100.0  253.2  190.000000   \n",
       "3182 2018-01-13 10:00:00  15.4       14.9   97.0  253.2  220.000000   \n",
       "\n",
       "      wind_speed    pres  id_borough  \n",
       "720         35.3  1018.4           0  \n",
       "1019         7.6   993.1           1  \n",
       "1514         7.6  1021.0           2  \n",
       "1624        14.8  1024.3           2  \n",
       "1658         0.0  1025.8           2  \n",
       "1679         5.4  1030.3           2  \n",
       "1697         0.0  1029.3           2  \n",
       "1723        13.0  1010.8           2  \n",
       "1740         9.4   992.6           2  \n",
       "1742         5.4   999.1           2  \n",
       "1747         7.6  1012.0           2  \n",
       "1752         5.4  1020.2           2  \n",
       "1820         5.4  1030.5           2  \n",
       "1853         7.6  1022.4           2  \n",
       "2162         9.4  1018.4           2  \n",
       "2461        48.2   994.2           3  \n",
       "3182         9.4   993.1           4  "
      ]
     },
     "execution_count": 37,
     "metadata": {},
     "output_type": "execute_result"
    }
   ],
   "source": [
    "import numpy as np\n",
    "df[df[\"rain\"] > 50]"
   ]
  },
  {
   "cell_type": "markdown",
   "metadata": {},
   "source": [
    "Se decide modificar los outliers"
   ]
  },
  {
   "cell_type": "code",
   "execution_count": 21,
   "metadata": {},
   "outputs": [],
   "source": [
    "df.loc[df.rain > 20, 'rain'] = 1"
   ]
  },
  {
   "cell_type": "markdown",
   "metadata": {},
   "source": [
    "#seteamos igual a 1 aquellos valores que sean mayor a 200"
   ]
  },
  {
   "cell_type": "code",
   "execution_count": 65,
   "metadata": {},
   "outputs": [
    {
     "data": {
      "text/html": [
       "<div>\n",
       "<style scoped>\n",
       "    .dataframe tbody tr th:only-of-type {\n",
       "        vertical-align: middle;\n",
       "    }\n",
       "\n",
       "    .dataframe tbody tr th {\n",
       "        vertical-align: top;\n",
       "    }\n",
       "\n",
       "    .dataframe thead th {\n",
       "        text-align: right;\n",
       "    }\n",
       "</style>\n",
       "<table border=\"1\" class=\"dataframe\">\n",
       "  <thead>\n",
       "    <tr style=\"text-align: right;\">\n",
       "      <th></th>\n",
       "      <th>time</th>\n",
       "      <th>temp</th>\n",
       "      <th>dew_point</th>\n",
       "      <th>hum</th>\n",
       "      <th>rain</th>\n",
       "      <th>wind_dir</th>\n",
       "      <th>wind_speed</th>\n",
       "      <th>pres</th>\n",
       "      <th>id_borough</th>\n",
       "      <th>timestamp</th>\n",
       "      <th>time2</th>\n",
       "      <th>clavesub</th>\n",
       "      <th>id_time_borough</th>\n",
       "    </tr>\n",
       "  </thead>\n",
       "  <tbody>\n",
       "  </tbody>\n",
       "</table>\n",
       "</div>"
      ],
      "text/plain": [
       "Empty DataFrame\n",
       "Columns: [time, temp, dew_point, hum, rain, wind_dir, wind_speed, pres, id_borough, timestamp, time2, clavesub, id_time_borough]\n",
       "Index: []"
      ]
     },
     "execution_count": 65,
     "metadata": {},
     "output_type": "execute_result"
    }
   ],
   "source": [
    "df[df[\"rain\"] > 20]"
   ]
  },
  {
   "cell_type": "code",
   "execution_count": 45,
   "metadata": {},
   "outputs": [
    {
     "data": {
      "text/plain": [
       "<AxesSubplot:title={'center':'Distribucion de rain'}, xlabel='rain', ylabel='Count'>"
      ]
     },
     "execution_count": 45,
     "metadata": {},
     "output_type": "execute_result"
    },
    {
     "data": {
      "image/png": "[encoded data removed]",
      "text/plain": [
       "<Figure size 432x288 with 1 Axes>"
      ]
     },
     "metadata": {},
     "output_type": "display_data"
    }
   ],
   "source": [
    "sns.set_style(\"darkgrid\")\n",
    "plt.title(\"Distribucion de rain\")\n",
    "sns.histplot(data=df, x=\"rain\", binwidth=2)"
   ]
  },
  {
   "cell_type": "markdown",
   "metadata": {},
   "source": [
    "CREACION DE CLAVE SUBROGADA"
   ]
  },
  {
   "cell_type": "code",
   "execution_count": 23,
   "metadata": {},
   "outputs": [],
   "source": [
    "from datetime import datetime"
   ]
  },
  {
   "cell_type": "code",
   "execution_count": 61,
   "metadata": {},
   "outputs": [],
   "source": [
    "#CAMBIAR EL FORMATO\n",
    "from datetime import datetime\n"
   ]
  },
  {
   "cell_type": "markdown",
   "metadata": {},
   "source": [
    "Se concatena el anio, mes dia hora e id_borough para formar una clave sub"
   ]
  },
  {
   "cell_type": "code",
   "execution_count": 23,
   "metadata": {},
   "outputs": [],
   "source": [
    "df['id_time_borough'] = df.time.dt.strftime('%Y%m%d%H') + df.id_borough.astype(str)\n"
   ]
  },
  {
   "cell_type": "code",
   "execution_count": 24,
   "metadata": {},
   "outputs": [
    {
     "data": {
      "text/plain": [
       "3605"
      ]
     },
     "execution_count": 24,
     "metadata": {},
     "output_type": "execute_result"
    }
   ],
   "source": [
    "df[\"id_time_borough\"].nunique()"
   ]
  },
  {
   "cell_type": "markdown",
   "metadata": {},
   "source": [
    "se comprueba que no hay clases repetidas"
   ]
  },
  {
   "cell_type": "code",
   "execution_count": 25,
   "metadata": {},
   "outputs": [
    {
     "data": {
      "text/html": [
       "<div>\n",
       "<style scoped>\n",
       "    .dataframe tbody tr th:only-of-type {\n",
       "        vertical-align: middle;\n",
       "    }\n",
       "\n",
       "    .dataframe tbody tr th {\n",
       "        vertical-align: top;\n",
       "    }\n",
       "\n",
       "    .dataframe thead th {\n",
       "        text-align: right;\n",
       "    }\n",
       "</style>\n",
       "<table border=\"1\" class=\"dataframe\">\n",
       "  <thead>\n",
       "    <tr style=\"text-align: right;\">\n",
       "      <th></th>\n",
       "      <th>time</th>\n",
       "      <th>temp</th>\n",
       "      <th>dew_point</th>\n",
       "      <th>hum</th>\n",
       "      <th>rain</th>\n",
       "      <th>wind_dir</th>\n",
       "      <th>wind_speed</th>\n",
       "      <th>pres</th>\n",
       "      <th>id_borough</th>\n",
       "      <th>id_time_borough</th>\n",
       "    </tr>\n",
       "  </thead>\n",
       "  <tbody>\n",
       "    <tr>\n",
       "      <th>0</th>\n",
       "      <td>2018-01-01 00:00:00</td>\n",
       "      <td>-10.7</td>\n",
       "      <td>-20.1</td>\n",
       "      <td>46.0</td>\n",
       "      <td>0.0</td>\n",
       "      <td>320.0</td>\n",
       "      <td>18.4</td>\n",
       "      <td>1026.7</td>\n",
       "      <td>0</td>\n",
       "      <td>20180101000</td>\n",
       "    </tr>\n",
       "    <tr>\n",
       "      <th>1</th>\n",
       "      <td>2018-01-01 01:00:00</td>\n",
       "      <td>-11.8</td>\n",
       "      <td>-20.6</td>\n",
       "      <td>48.0</td>\n",
       "      <td>0.0</td>\n",
       "      <td>330.0</td>\n",
       "      <td>18.4</td>\n",
       "      <td>1026.7</td>\n",
       "      <td>0</td>\n",
       "      <td>20180101010</td>\n",
       "    </tr>\n",
       "    <tr>\n",
       "      <th>2</th>\n",
       "      <td>2018-01-01 02:00:00</td>\n",
       "      <td>-12.3</td>\n",
       "      <td>-20.6</td>\n",
       "      <td>50.0</td>\n",
       "      <td>0.0</td>\n",
       "      <td>320.0</td>\n",
       "      <td>13.0</td>\n",
       "      <td>1027.0</td>\n",
       "      <td>0</td>\n",
       "      <td>20180101020</td>\n",
       "    </tr>\n",
       "    <tr>\n",
       "      <th>3</th>\n",
       "      <td>2018-01-01 03:00:00</td>\n",
       "      <td>-12.3</td>\n",
       "      <td>-20.6</td>\n",
       "      <td>50.0</td>\n",
       "      <td>0.0</td>\n",
       "      <td>330.0</td>\n",
       "      <td>20.5</td>\n",
       "      <td>1026.8</td>\n",
       "      <td>0</td>\n",
       "      <td>20180101030</td>\n",
       "    </tr>\n",
       "    <tr>\n",
       "      <th>4</th>\n",
       "      <td>2018-01-01 04:00:00</td>\n",
       "      <td>-12.9</td>\n",
       "      <td>-20.1</td>\n",
       "      <td>55.0</td>\n",
       "      <td>0.0</td>\n",
       "      <td>320.0</td>\n",
       "      <td>20.5</td>\n",
       "      <td>1027.1</td>\n",
       "      <td>0</td>\n",
       "      <td>20180101040</td>\n",
       "    </tr>\n",
       "  </tbody>\n",
       "</table>\n",
       "</div>"
      ],
      "text/plain": [
       "                 time  temp  dew_point   hum  rain  wind_dir  wind_speed  \\\n",
       "0 2018-01-01 00:00:00 -10.7      -20.1  46.0   0.0     320.0        18.4   \n",
       "1 2018-01-01 01:00:00 -11.8      -20.6  48.0   0.0     330.0        18.4   \n",
       "2 2018-01-01 02:00:00 -12.3      -20.6  50.0   0.0     320.0        13.0   \n",
       "3 2018-01-01 03:00:00 -12.3      -20.6  50.0   0.0     330.0        20.5   \n",
       "4 2018-01-01 04:00:00 -12.9      -20.1  55.0   0.0     320.0        20.5   \n",
       "\n",
       "     pres  id_borough id_time_borough  \n",
       "0  1026.7           0     20180101000  \n",
       "1  1026.7           0     20180101010  \n",
       "2  1027.0           0     20180101020  \n",
       "3  1026.8           0     20180101030  \n",
       "4  1027.1           0     20180101040  "
      ]
     },
     "execution_count": 25,
     "metadata": {},
     "output_type": "execute_result"
    }
   ],
   "source": [
    "df.head()"
   ]
  }
 ],
 "metadata": {
  "kernelspec": {
   "display_name": "Python 3.10.5 64-bit (windows store)",
   "language": "python",
   "name": "python3"
  },
  "language_info": {
   "codemirror_mode": {
    "name": "ipython",
    "version": 3
   },
   "file_extension": ".py",
   "mimetype": "text/x-python",
   "name": "python",
   "nbconvert_exporter": "python",
   "pygments_lexer": "ipython3",
   "version": "3.10.5"
  },
  "orig_nbformat": 4,
  "vscode": {
   "interpreter": {
    "hash": "91928139b2e5517ccda93fa90c640caddc5f1fa2f15496cefc87753baa52bc8d"
   }
  }
 },
 "nbformat": 4,
 "nbformat_minor": 2
}
