{
 "cells": [
  {
   "cell_type": "code",
   "execution_count": 1,
   "metadata": {},
   "outputs": [],
   "source": [
    "import csv\n",
    "import codecs\n",
    "import urllib.request\n",
    "import urllib.error\n",
    "import sys\n",
    "import pandas as pd"
   ]
  },
  {
   "cell_type": "markdown",
   "metadata": {},
   "source": [
    "1) Creamos variables para los parámetros de la consulta"
   ]
  },
  {
   "cell_type": "code",
   "execution_count": 2,
   "metadata": {},
   "outputs": [],
   "source": [
    "BaseURL = 'https://weather.visualcrossing.com/VisualCrossingWebServices/rest/services/timeline/'\n",
    "\n",
    "ApiKey='8CG3ETAC2GNVGSG2G72ZAS3EQ' # Coloca acá tu clave de Visual Crossing\n",
    "#UnitGroup sets the units of the output - us or metric\n",
    "UnitGroup='us'\n",
    "\n",
    "#Location for the weather data\n",
    "Location='40.776676,-73.971321'\n",
    "\n",
    "#Optional start and end dates\n",
    "#If nothing is specified, the forecast is retrieved. \n",
    "#If start date only is specified, a single historical or forecast day will be retrieved\n",
    "#If both start and and end date are specified, a date range will be retrieved\n",
    "\n",
    "StartDate = '2018-01-01' #Hasta el momento sólo descargué los datos del 01 al 10 de Enero para esta locación. Puede comenzar a descargar a partir del 11 de Enero\n",
    "EndDate='2018-01-31'\n",
    "\n",
    "#JSON or CSV \n",
    "#JSON format supports daily, hourly, current conditions, weather alerts and events in a single JSON package\n",
    "#CSV format requires an 'include' parameter below to indicate which table section is required\n",
    "ContentType=\"csv\"\n",
    "\n",
    "#include sections\n",
    "#values include days,hours,current,alerts\n",
    "Include=\"days\""
   ]
  },
  {
   "cell_type": "code",
   "execution_count": 3,
   "metadata": {},
   "outputs": [],
   "source": [
    "#basic query including location\n",
    "ApiQuery=BaseURL + Location\n",
    "\n",
    "#append the start and end date if present\n",
    "if (len(StartDate)):\n",
    "    ApiQuery+=\"/\"+StartDate\n",
    "    if (len(EndDate)):\n",
    "        ApiQuery+=\"/\"+EndDate\n",
    "\n",
    "#Url is completed. Now add query parameters (could be passed as GET or POST)\n",
    "ApiQuery+=\"?\"\n",
    "\n",
    "#append each parameter as necessary\n",
    "if (len(UnitGroup)):\n",
    "    ApiQuery+=\"&unitGroup=\"+UnitGroup\n",
    "\n",
    "if (len(ContentType)):\n",
    "    ApiQuery+=\"&contentType=\"+ContentType\n",
    "\n",
    "if (len(Include)):\n",
    "    ApiQuery+=\"&include=\"+Include\n",
    "\n",
    "ApiQuery+=\"&key=\"+ApiKey"
   ]
  },
  {
   "cell_type": "markdown",
   "metadata": {},
   "source": [
    "2) Se realiza la consulta y se guarda en la variable CSVBytes"
   ]
  },
  {
   "cell_type": "code",
   "execution_count": 4,
   "metadata": {},
   "outputs": [
    {
     "name": "stdout",
     "output_type": "stream",
     "text": [
      " - Running query URL:  https://weather.visualcrossing.com/VisualCrossingWebServices/rest/services/timeline/40.776676,-73.971321/2018-01-01/2018-01-31?&unitGroup=us&contentType=csv&include=days&key=8CG3ETAC2GNVGSG2G72ZAS3EQ\n",
      "\n"
     ]
    }
   ],
   "source": [
    "\n",
    "print(' - Running query URL: ', ApiQuery)\n",
    "print()\n",
    "\n",
    "try: \n",
    "    CSVBytes = urllib.request.urlopen(ApiQuery)\n",
    "except urllib.error.HTTPError  as e:\n",
    "    ErrorInfo= e.read().decode() \n",
    "    print('Error code: ', e.code, ErrorInfo)\n",
    "    sys.exit()\n",
    "except  urllib.error.URLError as e:\n",
    "    ErrorInfo= e.read().decode() \n",
    "    print('Error code: ', e.code,ErrorInfo)\n",
    "    sys.exit()"
   ]
  },
  {
   "cell_type": "markdown",
   "metadata": {},
   "source": [
    "3) Se parsea CSVBytes en un objeto de tipo csv.reader"
   ]
  },
  {
   "cell_type": "code",
   "execution_count": 5,
   "metadata": {},
   "outputs": [],
   "source": [
    "# Parse the results as CSV\n",
    "CSVText = csv.reader(codecs.iterdecode(CSVBytes, 'utf-8'))"
   ]
  },
  {
   "cell_type": "markdown",
   "metadata": {},
   "source": [
    "4) Se itera sobre CSVText donde cada iteración arroja una lista de strings. Cada lista es una fila de la tabla, así que guadaremos cada fila en otra lista (creando una lista de listas)"
   ]
  },
  {
   "cell_type": "code",
   "execution_count": 6,
   "metadata": {},
   "outputs": [],
   "source": [
    "lista = []\n",
    "for row in CSVText:\n",
    "    lista.append(row)"
   ]
  },
  {
   "cell_type": "markdown",
   "metadata": {},
   "source": [
    "5) Con la lista de listas, se crea un data frame. El primer objeto de la lista serán las columnas, el resto es el contenido"
   ]
  },
  {
   "cell_type": "code",
   "execution_count": 7,
   "metadata": {},
   "outputs": [],
   "source": [
    "df = pd.DataFrame(lista[1:],columns=lista[0])"
   ]
  },
  {
   "cell_type": "code",
   "execution_count": 8,
   "metadata": {},
   "outputs": [
    {
     "name": "stdout",
     "output_type": "stream",
     "text": [
      "<class 'pandas.core.frame.DataFrame'>\n",
      "RangeIndex: 31 entries, 0 to 30\n",
      "Data columns (total 33 columns):\n",
      " #   Column            Non-Null Count  Dtype \n",
      "---  ------            --------------  ----- \n",
      " 0   name              31 non-null     object\n",
      " 1   datetime          31 non-null     object\n",
      " 2   tempmax           31 non-null     object\n",
      " 3   tempmin           31 non-null     object\n",
      " 4   temp              31 non-null     object\n",
      " 5   feelslikemax      31 non-null     object\n",
      " 6   feelslikemin      31 non-null     object\n",
      " 7   feelslike         31 non-null     object\n",
      " 8   dew               31 non-null     object\n",
      " 9   humidity          31 non-null     object\n",
      " 10  precip            31 non-null     object\n",
      " 11  precipprob        31 non-null     object\n",
      " 12  precipcover       31 non-null     object\n",
      " 13  preciptype        31 non-null     object\n",
      " 14  snow              31 non-null     object\n",
      " 15  snowdepth         31 non-null     object\n",
      " 16  windgust          31 non-null     object\n",
      " 17  windspeed         31 non-null     object\n",
      " 18  winddir           31 non-null     object\n",
      " 19  sealevelpressure  31 non-null     object\n",
      " 20  cloudcover        31 non-null     object\n",
      " 21  visibility        31 non-null     object\n",
      " 22  solarradiation    31 non-null     object\n",
      " 23  solarenergy       31 non-null     object\n",
      " 24  uvindex           31 non-null     object\n",
      " 25  severerisk        31 non-null     object\n",
      " 26  sunrise           31 non-null     object\n",
      " 27  sunset            31 non-null     object\n",
      " 28  moonphase         31 non-null     object\n",
      " 29  conditions        31 non-null     object\n",
      " 30  description       31 non-null     object\n",
      " 31  icon              31 non-null     object\n",
      " 32  stations          31 non-null     object\n",
      "dtypes: object(33)\n",
      "memory usage: 8.1+ KB\n"
     ]
    }
   ],
   "source": [
    "df.info()"
   ]
  },
  {
   "cell_type": "code",
   "execution_count": 17,
   "metadata": {},
   "outputs": [
    {
     "data": {
      "text/html": [
       "<div>\n",
       "<style scoped>\n",
       "    .dataframe tbody tr th:only-of-type {\n",
       "        vertical-align: middle;\n",
       "    }\n",
       "\n",
       "    .dataframe tbody tr th {\n",
       "        vertical-align: top;\n",
       "    }\n",
       "\n",
       "    .dataframe thead th {\n",
       "        text-align: right;\n",
       "    }\n",
       "</style>\n",
       "<table border=\"1\" class=\"dataframe\">\n",
       "  <thead>\n",
       "    <tr style=\"text-align: right;\">\n",
       "      <th></th>\n",
       "      <th>datetime</th>\n",
       "      <th>snowdepth</th>\n",
       "    </tr>\n",
       "  </thead>\n",
       "  <tbody>\n",
       "    <tr>\n",
       "      <th>0</th>\n",
       "      <td>2018-01-01</td>\n",
       "      <td>0</td>\n",
       "    </tr>\n",
       "    <tr>\n",
       "      <th>1</th>\n",
       "      <td>2018-01-02</td>\n",
       "      <td>0</td>\n",
       "    </tr>\n",
       "    <tr>\n",
       "      <th>2</th>\n",
       "      <td>2018-01-03</td>\n",
       "      <td>0.2</td>\n",
       "    </tr>\n",
       "    <tr>\n",
       "      <th>3</th>\n",
       "      <td>2018-01-04</td>\n",
       "      <td>2.3</td>\n",
       "    </tr>\n",
       "    <tr>\n",
       "      <th>4</th>\n",
       "      <td>2018-01-05</td>\n",
       "      <td>6.5</td>\n",
       "    </tr>\n",
       "    <tr>\n",
       "      <th>5</th>\n",
       "      <td>2018-01-06</td>\n",
       "      <td>6</td>\n",
       "    </tr>\n",
       "    <tr>\n",
       "      <th>6</th>\n",
       "      <td>2018-01-07</td>\n",
       "      <td>5.7</td>\n",
       "    </tr>\n",
       "    <tr>\n",
       "      <th>7</th>\n",
       "      <td>2018-01-08</td>\n",
       "      <td>5.2</td>\n",
       "    </tr>\n",
       "    <tr>\n",
       "      <th>8</th>\n",
       "      <td>2018-01-09</td>\n",
       "      <td>4.9</td>\n",
       "    </tr>\n",
       "    <tr>\n",
       "      <th>9</th>\n",
       "      <td>2018-01-10</td>\n",
       "      <td>3.8</td>\n",
       "    </tr>\n",
       "    <tr>\n",
       "      <th>10</th>\n",
       "      <td>2018-01-11</td>\n",
       "      <td>2.5</td>\n",
       "    </tr>\n",
       "    <tr>\n",
       "      <th>11</th>\n",
       "      <td>2018-01-12</td>\n",
       "      <td>0.2</td>\n",
       "    </tr>\n",
       "    <tr>\n",
       "      <th>12</th>\n",
       "      <td>2018-01-13</td>\n",
       "      <td>0</td>\n",
       "    </tr>\n",
       "    <tr>\n",
       "      <th>13</th>\n",
       "      <td>2018-01-14</td>\n",
       "      <td>0</td>\n",
       "    </tr>\n",
       "    <tr>\n",
       "      <th>14</th>\n",
       "      <td>2018-01-15</td>\n",
       "      <td>0</td>\n",
       "    </tr>\n",
       "    <tr>\n",
       "      <th>15</th>\n",
       "      <td>2018-01-16</td>\n",
       "      <td>0</td>\n",
       "    </tr>\n",
       "    <tr>\n",
       "      <th>16</th>\n",
       "      <td>2018-01-17</td>\n",
       "      <td>0</td>\n",
       "    </tr>\n",
       "    <tr>\n",
       "      <th>17</th>\n",
       "      <td>2018-01-18</td>\n",
       "      <td>0.2</td>\n",
       "    </tr>\n",
       "    <tr>\n",
       "      <th>18</th>\n",
       "      <td>2018-01-19</td>\n",
       "      <td>0.3</td>\n",
       "    </tr>\n",
       "    <tr>\n",
       "      <th>19</th>\n",
       "      <td>2018-01-20</td>\n",
       "      <td>0</td>\n",
       "    </tr>\n",
       "    <tr>\n",
       "      <th>20</th>\n",
       "      <td>2018-01-21</td>\n",
       "      <td>0</td>\n",
       "    </tr>\n",
       "    <tr>\n",
       "      <th>21</th>\n",
       "      <td>2018-01-22</td>\n",
       "      <td>0</td>\n",
       "    </tr>\n",
       "    <tr>\n",
       "      <th>22</th>\n",
       "      <td>2018-01-23</td>\n",
       "      <td>0</td>\n",
       "    </tr>\n",
       "    <tr>\n",
       "      <th>23</th>\n",
       "      <td>2018-01-24</td>\n",
       "      <td>0</td>\n",
       "    </tr>\n",
       "    <tr>\n",
       "      <th>24</th>\n",
       "      <td>2018-01-25</td>\n",
       "      <td>0</td>\n",
       "    </tr>\n",
       "    <tr>\n",
       "      <th>25</th>\n",
       "      <td>2018-01-26</td>\n",
       "      <td>0</td>\n",
       "    </tr>\n",
       "    <tr>\n",
       "      <th>26</th>\n",
       "      <td>2018-01-27</td>\n",
       "      <td>0</td>\n",
       "    </tr>\n",
       "    <tr>\n",
       "      <th>27</th>\n",
       "      <td>2018-01-28</td>\n",
       "      <td>0</td>\n",
       "    </tr>\n",
       "    <tr>\n",
       "      <th>28</th>\n",
       "      <td>2018-01-29</td>\n",
       "      <td>0.2</td>\n",
       "    </tr>\n",
       "    <tr>\n",
       "      <th>29</th>\n",
       "      <td>2018-01-30</td>\n",
       "      <td>0.7</td>\n",
       "    </tr>\n",
       "    <tr>\n",
       "      <th>30</th>\n",
       "      <td>2018-01-31</td>\n",
       "      <td>0.1</td>\n",
       "    </tr>\n",
       "  </tbody>\n",
       "</table>\n",
       "</div>"
      ],
      "text/plain": [
       "      datetime snowdepth\n",
       "0   2018-01-01         0\n",
       "1   2018-01-02         0\n",
       "2   2018-01-03       0.2\n",
       "3   2018-01-04       2.3\n",
       "4   2018-01-05       6.5\n",
       "5   2018-01-06         6\n",
       "6   2018-01-07       5.7\n",
       "7   2018-01-08       5.2\n",
       "8   2018-01-09       4.9\n",
       "9   2018-01-10       3.8\n",
       "10  2018-01-11       2.5\n",
       "11  2018-01-12       0.2\n",
       "12  2018-01-13         0\n",
       "13  2018-01-14         0\n",
       "14  2018-01-15         0\n",
       "15  2018-01-16         0\n",
       "16  2018-01-17         0\n",
       "17  2018-01-18       0.2\n",
       "18  2018-01-19       0.3\n",
       "19  2018-01-20         0\n",
       "20  2018-01-21         0\n",
       "21  2018-01-22         0\n",
       "22  2018-01-23         0\n",
       "23  2018-01-24         0\n",
       "24  2018-01-25         0\n",
       "25  2018-01-26         0\n",
       "26  2018-01-27         0\n",
       "27  2018-01-28         0\n",
       "28  2018-01-29       0.2\n",
       "29  2018-01-30       0.7\n",
       "30  2018-01-31       0.1"
      ]
     },
     "execution_count": 17,
     "metadata": {},
     "output_type": "execute_result"
    }
   ],
   "source": [
    "df[['datetime','snowdepth']]"
   ]
  },
  {
   "cell_type": "markdown",
   "metadata": {},
   "source": [
    "6) Guardo el resultado de la consulta como un archivo csv"
   ]
  },
  {
   "cell_type": "code",
   "execution_count": 18,
   "metadata": {},
   "outputs": [],
   "source": [
    "df.to_csv('weather_data_02.csv',index=False)"
   ]
  }
 ],
 "metadata": {
  "kernelspec": {
   "display_name": "Python 3.10.2 64-bit",
   "language": "python",
   "name": "python3"
  },
  "language_info": {
   "codemirror_mode": {
    "name": "ipython",
    "version": 3
   },
   "file_extension": ".py",
   "mimetype": "text/x-python",
   "name": "python",
   "nbconvert_exporter": "python",
   "pygments_lexer": "ipython3",
   "version": "3.10.2"
  },
  "orig_nbformat": 4,
  "vscode": {
   "interpreter": {
    "hash": "6b4300b6aac351fe23c26c71bad671dd04f014e456616c27a3d93cc46de68c53"
   }
  }
 },
 "nbformat": 4,
 "nbformat_minor": 2
}
