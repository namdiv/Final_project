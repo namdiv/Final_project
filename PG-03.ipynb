{
 "cells": [
  {
   "cell_type": "markdown",
   "metadata": {},
   "source": [
    "# Proyecto Grupal - Etapa 04: Limpieza de Datos\n",
    "Autores:\n",
    "Camila de la Paz\n",
    "Daniel E. Ramírez\n",
    "Franco Pes\n",
    "Xavier Vidman\n",
    "\n",
    "El presente archivo compila la tercera etapa del primer proyecto grupal de la carrera de Data Science de Henry, un análisis exploratorio sobre los datos proporcionados. Esta etapa se divide, a su vez, en los pasos que se detallan a continuación:\n",
    "1. Importación de liberías a utilizar\n",
    "2. Carga de datos\n",
    "3. Limpieza y Transformación"
   ]
  },
  {
   "cell_type": "markdown",
   "metadata": {},
   "source": [
    "### Paso 1: Importación de librerías"
   ]
  },
  {
   "cell_type": "code",
   "execution_count": 1,
   "metadata": {},
   "outputs": [],
   "source": [
    "import datetime \n",
    "import matplotlib.pyplot as plt\n",
    "import numpy as np\n",
    "import pandas as pd\n",
    "import seaborn as sns\n",
    "sns.set(style=\"whitegrid\", color_codes=True)"
   ]
  },
  {
   "cell_type": "markdown",
   "metadata": {},
   "source": [
    "### Paso 2: Carga de datos\n"
   ]
  },
  {
   "cell_type": "code",
   "execution_count": 44,
   "metadata": {},
   "outputs": [],
   "source": [
    "df = pd.read_parquet ('https://d37ci6vzurychx.cloudfront.net/trip-data/yellow_tripdata_2018-01.parquet')"
   ]
  },
  {
   "cell_type": "markdown",
   "metadata": {},
   "source": [
    "### Paso 3: Limpieza y Transformación"
   ]
  },
  {
   "cell_type": "markdown",
   "metadata": {},
   "source": [
    "#### a) Se eliminaron columnas innecesarias"
   ]
  },
  {
   "cell_type": "code",
   "execution_count": 45,
   "metadata": {},
   "outputs": [],
   "source": [
    "df.drop(columns=['congestion_surcharge','airport_fee'],inplace=True)"
   ]
  },
  {
   "cell_type": "markdown",
   "metadata": {},
   "source": [
    "#### b) Se eliminaron registros duplicados"
   ]
  },
  {
   "cell_type": "code",
   "execution_count": 46,
   "metadata": {},
   "outputs": [],
   "source": [
    "df.drop_duplicates(inplace=True)"
   ]
  },
  {
   "cell_type": "markdown",
   "metadata": {},
   "source": [
    "#### c) Se renombraron las columnas"
   ]
  },
  {
   "cell_type": "code",
   "execution_count": 47,
   "metadata": {},
   "outputs": [],
   "source": [
    "df.rename(columns =\n",
    "                    {'VendorID':'vendor_id',\n",
    "                    'RatecodeID':'ratecode_id',\n",
    "                    'PULocationID':'pu_zone_id',\n",
    "                    'DOLocationID':'do_zone_id'}, inplace = True)"
   ]
  },
  {
   "cell_type": "markdown",
   "metadata": {},
   "source": [
    "#### d) Se creó una nueva columna, fare_per_mile, para estudiar la relación entre fare_amount y trip_distance"
   ]
  },
  {
   "cell_type": "code",
   "execution_count": 48,
   "metadata": {},
   "outputs": [],
   "source": [
    "df['fare_per_mile'] = df.fare_amount / df.trip_distance"
   ]
  },
  {
   "cell_type": "markdown",
   "metadata": {},
   "source": [
    "Debido que algunos registros tenían trip_distance 0, el fare_per_mile es infinito o NaN. Se les asignó 0 a estos registros"
   ]
  },
  {
   "cell_type": "code",
   "execution_count": 49,
   "metadata": {},
   "outputs": [
    {
     "name": "stderr",
     "output_type": "stream",
     "text": [
      "C:\\Users\\urbda\\AppData\\Local\\Temp\\ipykernel_24704\\956704063.py:1: SettingWithCopyWarning: \n",
      "A value is trying to be set on a copy of a slice from a DataFrame\n",
      "\n",
      "See the caveats in the documentation: https://pandas.pydata.org/pandas-docs/stable/user_guide/indexing.html#returning-a-view-versus-a-copy\n",
      "  df.fare_per_mile[df.fare_per_mile > 100000] = 0\n"
     ]
    }
   ],
   "source": [
    "df.fare_per_mile[df.fare_per_mile > 100000] = 0"
   ]
  },
  {
   "cell_type": "code",
   "execution_count": 50,
   "metadata": {},
   "outputs": [],
   "source": [
    "df.fare_per_mile.fillna(0,inplace=True)"
   ]
  },
  {
   "cell_type": "markdown",
   "metadata": {},
   "source": [
    "#### e) Se creó una nueva columna, trip_time, para identificar el tiempo de viaje en segundos"
   ]
  },
  {
   "cell_type": "markdown",
   "metadata": {},
   "source": [
    "Primero se calculó la diferencia de tiempo"
   ]
  },
  {
   "cell_type": "code",
   "execution_count": 51,
   "metadata": {},
   "outputs": [],
   "source": [
    "df['trip_time'] = df.tpep_dropoff_datetime - df.tpep_pickup_datetime"
   ]
  },
  {
   "cell_type": "markdown",
   "metadata": {},
   "source": [
    "Luego se convirtió a segundos"
   ]
  },
  {
   "cell_type": "code",
   "execution_count": 52,
   "metadata": {},
   "outputs": [],
   "source": [
    "df.trip_time = df.trip_time.dt.total_seconds()"
   ]
  },
  {
   "cell_type": "markdown",
   "metadata": {},
   "source": [
    "#### f) Se creó una nueva columna, fare_per_minute, para identificar la relación entre el fare_amount y el trip_time"
   ]
  },
  {
   "cell_type": "code",
   "execution_count": 53,
   "metadata": {},
   "outputs": [],
   "source": [
    "df['fare_per_minute'] = df.fare_amount / (df.trip_time / 60)"
   ]
  },
  {
   "cell_type": "code",
   "execution_count": 54,
   "metadata": {},
   "outputs": [
    {
     "name": "stderr",
     "output_type": "stream",
     "text": [
      "C:\\Users\\urbda\\AppData\\Local\\Temp\\ipykernel_24704\\2332422894.py:1: SettingWithCopyWarning: \n",
      "A value is trying to be set on a copy of a slice from a DataFrame\n",
      "\n",
      "See the caveats in the documentation: https://pandas.pydata.org/pandas-docs/stable/user_guide/indexing.html#returning-a-view-versus-a-copy\n",
      "  df.fare_per_minute[df.fare_per_minute > 100000] = 0\n"
     ]
    }
   ],
   "source": [
    "df.fare_per_minute[df.fare_per_minute > 100000] = 0"
   ]
  },
  {
   "cell_type": "code",
   "execution_count": 55,
   "metadata": {},
   "outputs": [],
   "source": [
    "df.fare_per_minute.fillna(0,inplace=True)"
   ]
  },
  {
   "cell_type": "markdown",
   "metadata": {},
   "source": [
    "#### g) Se creó una nueva columna, id_borough, para identificar a qué Borough pertenece cada viaje"
   ]
  },
  {
   "cell_type": "markdown",
   "metadata": {},
   "source": [
    "Lo primero es cargar el dataframe con las zonas de taxis"
   ]
  },
  {
   "cell_type": "code",
   "execution_count": 56,
   "metadata": {},
   "outputs": [],
   "source": [
    "df_zones = pd.read_csv('https://raw.githubusercontent.com/soyHenry/DS-Proyecto_Grupal_TaxisNYC/main/taxi%2B_zone_lookup.csv')"
   ]
  },
  {
   "cell_type": "markdown",
   "metadata": {},
   "source": [
    "Se reemplazaron los nombres de los boroughs por id's"
   ]
  },
  {
   "cell_type": "code",
   "execution_count": 57,
   "metadata": {},
   "outputs": [],
   "source": [
    "df_zones.Borough.replace({\"Bronx\":0, \"Brooklyn\":1, \"Manhattan\":2, \"Queens\":3, \"Staten Island\":4, \"EWR\":5, \"Unknown\":6}, inplace=True)\n"
   ]
  },
  {
   "cell_type": "markdown",
   "metadata": {},
   "source": [
    "Se creó un diccionario de zonas con su respectivo borough_id para luego mapear"
   ]
  },
  {
   "cell_type": "code",
   "execution_count": 58,
   "metadata": {},
   "outputs": [],
   "source": [
    "dic_zone_borough = {df_zones.LocationID[i] : df_zones.Borough[i] for i in range (0,len(df_zones))}"
   ]
  },
  {
   "cell_type": "markdown",
   "metadata": {},
   "source": [
    "Se creó una nueva columna con su respectivo borough_id"
   ]
  },
  {
   "cell_type": "code",
   "execution_count": 59,
   "metadata": {},
   "outputs": [],
   "source": [
    "df['borough_id'] = df.pu_zone_id.map(dic_zone_borough)"
   ]
  },
  {
   "cell_type": "markdown",
   "metadata": {},
   "source": [
    "#### h) Se creó una nueva columna, id_time_borough, para posteriormente relacionar con la tabla de daots climáticos"
   ]
  },
  {
   "cell_type": "code",
   "execution_count": 60,
   "metadata": {},
   "outputs": [],
   "source": [
    "df['id_time_borough'] = df.tpep_pickup_datetime.dt.strftime('%Y%m%d%H') + df.borough_id.astype(str)"
   ]
  },
  {
   "cell_type": "markdown",
   "metadata": {},
   "source": [
    "#### i) Se marcaron registros que poseen outliers"
   ]
  },
  {
   "cell_type": "markdown",
   "metadata": {},
   "source": [
    "Creamos la columna para identificar el outliers"
   ]
  },
  {
   "cell_type": "code",
   "execution_count": 61,
   "metadata": {},
   "outputs": [],
   "source": [
    "df['outlier'] = 1"
   ]
  },
  {
   "cell_type": "markdown",
   "metadata": {},
   "source": [
    "Outliers trip_distance"
   ]
  },
  {
   "cell_type": "code",
   "execution_count": 62,
   "metadata": {},
   "outputs": [],
   "source": [
    "# Calculamos rango intercuartílico, mínimo, y máximo\n",
    "IQR = df.trip_distance.quantile(.75) - df.trip_distance.quantile(.25)\n",
    "min = df.trip_distance.quantile(.25) - (1.5 * IQR)\n",
    "max = df.trip_distance.quantile(.75) + (1.5 * IQR)\n",
    "\n",
    "# Indentificamos outliers\n",
    "df.loc[df.trip_distance < min, \"outlier\"] = 0\n",
    "df.loc[df.trip_distance > max, \"outlier\"] = 0"
   ]
  },
  {
   "cell_type": "markdown",
   "metadata": {},
   "source": [
    "Outliers fare_amount"
   ]
  },
  {
   "cell_type": "code",
   "execution_count": 64,
   "metadata": {},
   "outputs": [],
   "source": [
    "# Calculamos rango intercuartílico, mínimo, y máximo\n",
    "IQR = df.fare_amount.quantile(.75) - df.fare_amount.quantile(.25)\n",
    "min = df.fare_amount.quantile(.25) - (1.5 * IQR)\n",
    "max = df.fare_amount.quantile(.75) + (1.5 * IQR)\n",
    "\n",
    "# Indentificamos outliers\n",
    "df.loc[df.fare_amount < min, \"outlier\"] = 0\n",
    "df.loc[df.fare_amount > max, \"outlier\"] = 0"
   ]
  },
  {
   "cell_type": "markdown",
   "metadata": {},
   "source": [
    "Outliers trip_time"
   ]
  },
  {
   "cell_type": "code",
   "execution_count": 65,
   "metadata": {},
   "outputs": [],
   "source": [
    "# Calculamos rango intercuartílico, mínimo, y máximo\n",
    "IQR = df.trip_time.quantile(.75) - df.trip_time.quantile(.25)\n",
    "min = df.trip_time.quantile(.25) - (1.5 * IQR)\n",
    "max = df.trip_time.quantile(.75) + (1.5 * IQR)\n",
    "\n",
    "# Indentificamos outliers\n",
    "df.loc[df.trip_time < min, \"outlier\"] = 0\n",
    "df.loc[df.trip_time > max, \"outlier\"] = 0"
   ]
  }
 ],
 "metadata": {
  "kernelspec": {
   "display_name": "Python 3.10.2 64-bit",
   "language": "python",
   "name": "python3"
  },
  "language_info": {
   "codemirror_mode": {
    "name": "ipython",
    "version": 3
   },
   "file_extension": ".py",
   "mimetype": "text/x-python",
   "name": "python",
   "nbconvert_exporter": "python",
   "pygments_lexer": "ipython3",
   "version": "3.10.2"
  },
  "orig_nbformat": 4,
  "vscode": {
   "interpreter": {
    "hash": "6b4300b6aac351fe23c26c71bad671dd04f014e456616c27a3d93cc46de68c53"
   }
  }
 },
 "nbformat": 4,
 "nbformat_minor": 2
}
